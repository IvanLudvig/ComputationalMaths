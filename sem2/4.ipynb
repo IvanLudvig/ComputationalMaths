{
  "cells": [
    {
      "cell_type": "markdown",
      "metadata": {
        "id": "view-in-github",
        "colab_type": "text"
      },
      "source": [
        "<a href=\"https://colab.research.google.com/github/IvanLudvig/ComputationalMaths/blob/master/sem2/4.ipynb\" target=\"_parent\"><img src=\"https://colab.research.google.com/assets/colab-badge.svg\" alt=\"Open In Colab\"/></a>"
      ]
    },
    {
      "cell_type": "code",
      "execution_count": null,
      "metadata": {
        "id": "TheZU2u1q_N8"
      },
      "outputs": [],
      "source": [
        "from math import *\n",
        "import numpy as np\n",
        "import matplotlib.pyplot as plt\n",
        "import seaborn as sns"
      ]
    },
    {
      "cell_type": "code",
      "execution_count": null,
      "metadata": {
        "id": "jXrwoZh-tn_u"
      },
      "outputs": [],
      "source": [
        "def solveTriangleSlae(a, b, c, d):\n",
        "    n = len(b)\n",
        "    p, q = np.zeros(n), np.zeros(n)\n",
        "    c = c + [0]\n",
        "    p[0] = c[0] / b[0]\n",
        "    q[0] = d[0] / b[0]\n",
        "    for i in range(1, n):\n",
        "        p[i] = c[i] / (b[i] - (a[i - 1] * p[i - 1]))\n",
        "        q[i] = (d[i] - (a[i - 1] * q[i - 1])) / (b[i] - (a[i - 1]*p[i - 1]))\n",
        "\n",
        "    x = np.zeros(n)\n",
        "    m = n - 1\n",
        "\n",
        "    x[m] = q[-1]\n",
        "    for i in range(n - 2, -1, -1):\n",
        "        x[i] = q[i] - (x[i + 1] * p[i])\n",
        "    return x"
      ]
    },
    {
      "cell_type": "code",
      "execution_count": null,
      "metadata": {
        "id": "DzMxrvhu78Y7"
      },
      "outputs": [],
      "source": [
        "lm = 1e-4\n",
        "u_an = lambda t, x, y: cos(pi*x)*sin(5*pi*y)*exp(-50*(pi**2)*lm*t)\n",
        "u0x = lambda t, y: sin(5*pi*y)*exp(-50*(pi**2)*lm*t)\n",
        "u1x = lambda t, y: -sin(5*pi*y)*exp(-50*(pi**2)*lm*t)"
      ]
    },
    {
      "cell_type": "code",
      "execution_count": null,
      "metadata": {
        "id": "pwuDFSpimnGf"
      },
      "outputs": [],
      "source": [
        "u = np.zeros([])\n",
        "\n",
        "def calc(N, Nx, Ny):\n",
        "    global u\n",
        "    tt = np.linspace(0, 1, N+1)\n",
        "    xx = np.linspace(0, 1, Nx+1)\n",
        "    yy = np.linspace(0, 1, Ny+1)\n",
        "\n",
        "    tau = np.diff(tt)[0]\n",
        "    hx = np.diff(xx)[0]\n",
        "    hy = np.diff(yy)[0]\n",
        "    \n",
        "    u = np.zeros([N+1, Nx+1, Ny+1])\n",
        "\n",
        "    for i in range(Nx + 1):\n",
        "        for j in range(Ny + 1):\n",
        "            u[0, i, j] = cos(pi*xx[i]) * sin(5*pi*yy[j])\n",
        "\n",
        "    u[:, 0, :] = [[u0x(t, y) for y in yy] for t in tt]\n",
        "    u[:, Nx, :] = [[u1x(t, y) for y in yy] for t in tt]\n",
        "\n",
        "    a = (-50*lm/(hx**2)) - (2*lm/(hy**2)) - (1/tau)\n",
        "    b = lm/(hy**2)\n",
        "    c = 25*lm/(hx**2)\n",
        "\n",
        "    a2 = [0] + [c for m in range(1, Nx)]\n",
        "    a1 = [0] + [b for m in range(1, Nx)]\n",
        "    a0 = [1] + [a for l in range(1, Nx)] + [1]\n",
        "    a_1 = [b for m in range(1, Nx)] + [0]\n",
        "    a_2 = [c for m in range(1, Nx)] + [0]\n",
        "\n",
        "    for n in range(N):\n",
        "        if n % 2 == 0:\n",
        "            for j in range(1, Ny):\n",
        "                d = [u0x(tt[n+1], yy[j])] + [-(u[n, i, j]/tau)-(b*u[n+1, i, j-1])-(b*u[n, i, j+1]) for i in range(1, Nx)] + [u1x(tt[n+1], yy[j])]\n",
        "                u[n+1, :, j] = solveTriangleSlae(a_2, a0, a2, d)\n",
        "        else:\n",
        "            for i in range(1, Nx):\n",
        "                d = [0] + [-(u[n, i, j]/tau)-(c*u[n+1, i-1, j])-(c*u[n, i+1, j]) for j in range(1, Ny)] + [0]\n",
        "                u[n+1, i, :] = solveTriangleSlae(a_1, a0, a1, d)\n",
        "\n",
        "    d = 0\n",
        "    for l in range(Nx+1):\n",
        "        for m in range(Ny+1):\n",
        "            d = max(d, abs(u_an(tt[-1], xx[l], yy[m]) - u[-1, l, m]))\n",
        "\n",
        "    return d"
      ]
    },
    {
      "cell_type": "code",
      "execution_count": null,
      "metadata": {
        "colab": {
          "base_uri": "https://localhost:8080/"
        },
        "id": "7xYLjGsHWBmb",
        "outputId": "7c1b421b-59d3-4cc0-c517-ff3df848ab53"
      },
      "outputs": [
        {
          "data": {
            "text/plain": [
              "0.00397977008706818"
            ]
          },
          "execution_count": 5,
          "metadata": {},
          "output_type": "execute_result"
        }
      ],
      "source": [
        "calc(100, 10, 10)"
      ]
    },
    {
      "cell_type": "code",
      "execution_count": null,
      "metadata": {
        "colab": {
          "base_uri": "https://localhost:8080/"
        },
        "id": "Au25sGUZ8JXr",
        "outputId": "6fd42526-779e-4b80-cb21-0b21f3d1ec52"
      },
      "outputs": [
        {
          "data": {
            "text/plain": [
              "0.0011375069947414662"
            ]
          },
          "execution_count": 6,
          "metadata": {},
          "output_type": "execute_result"
        }
      ],
      "source": [
        "calc(400, 20, 20)"
      ]
    },
    {
      "cell_type": "code",
      "execution_count": null,
      "metadata": {
        "colab": {
          "base_uri": "https://localhost:8080/"
        },
        "id": "4B8zp30y8MDJ",
        "outputId": "555d67a8-15dc-4234-d256-9e8830e5615a"
      },
      "outputs": [
        {
          "data": {
            "text/plain": [
              "0.0003370548763487191"
            ]
          },
          "execution_count": 7,
          "metadata": {},
          "output_type": "execute_result"
        }
      ],
      "source": [
        "calc(1600, 40, 40)"
      ]
    },
    {
      "cell_type": "code",
      "execution_count": null,
      "metadata": {
        "id": "3FepT_4_o_wQ",
        "outputId": "6b1f8869-7bb8-4f27-c8b2-221a9b0f871c"
      },
      "outputs": [
        {
          "data": {
            "text/plain": [
              "<AxesSubplot:>"
            ]
          },
          "execution_count": 8,
          "metadata": {},
          "output_type": "execute_result"
        },
        {
          "data": {
            "image/png": "[encoded data removed]",
            "text/plain": [
              "<Figure size 432x288 with 2 Axes>"
            ]
          },
          "metadata": {
            "needs_background": "light"
          },
          "output_type": "display_data"
        }
      ],
      "source": [
        "sns.heatmap(u[-1, :, :])"
      ]
    },
    {
      "cell_type": "code",
      "execution_count": null,
      "metadata": {
        "id": "YfxOGNDT8QN4",
        "outputId": "b9321bfa-019d-4ba1-a2f1-62cc1b821767"
      },
      "outputs": [
        {
          "data": {
            "text/plain": [
              "0.0001263082052281872"
            ]
          },
          "execution_count": 9,
          "metadata": {},
          "output_type": "execute_result"
        }
      ],
      "source": [
        "calc(6400, 80, 80)"
      ]
    },
    {
      "cell_type": "code",
      "execution_count": null,
      "metadata": {
        "id": "YNUPqKBEo_wS",
        "outputId": "a8978b8a-25ba-4364-b413-bea68c77e579"
      },
      "outputs": [
        {
          "data": {
            "text/plain": [
              "<AxesSubplot:>"
            ]
          },
          "execution_count": 10,
          "metadata": {},
          "output_type": "execute_result"
        },
        {
          "data": {
            "image/png": "[encoded data removed]",
            "text/plain": [
              "<Figure size 432x288 with 2 Axes>"
            ]
          },
          "metadata": {
            "needs_background": "light"
          },
          "output_type": "display_data"
        }
      ],
      "source": [
        "sns.heatmap(u[-1, :, :])"
      ]
    }
  ],
  "metadata": {
    "colab": {
      "collapsed_sections": [],
      "name": "4.ipynb",
      "provenance": [],
      "include_colab_link": true
    },
    "kernelspec": {
      "display_name": "Python 3 (ipykernel)",
      "language": "python",
      "name": "python3"
    },
    "language_info": {
      "codemirror_mode": {
        "name": "ipython",
        "version": 3
      },
      "file_extension": ".py",
      "mimetype": "text/x-python",
      "name": "python",
      "nbconvert_exporter": "python",
      "pygments_lexer": "ipython3",
      "version": "3.10.4"
    }
  },
  "nbformat": 4,
  "nbformat_minor": 0
}