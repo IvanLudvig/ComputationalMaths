{
  "nbformat": 4,
  "nbformat_minor": 0,
  "metadata": {
    "colab": {
      "name": "10.9.3.ipynb",
      "provenance": [],
      "collapsed_sections": [],
      "authorship_tag": "ABX9TyOi8gqCknvaVxi/o/OzEaOF",
      "include_colab_link": true
    },
    "kernelspec": {
      "name": "python3",
      "display_name": "Python 3"
    },
    "language_info": {
      "name": "python"
    }
  },
  "cells": [
    {
      "cell_type": "markdown",
      "metadata": {
        "id": "view-in-github",
        "colab_type": "text"
      },
      "source": [
        "<a href=\"https://colab.research.google.com/github/IvanLudvig/ComputationalMaths/blob/master/10_9_3.ipynb\" target=\"_parent\"><img src=\"https://colab.research.google.com/assets/colab-badge.svg\" alt=\"Open In Colab\"/></a>"
      ]
    },
    {
      "cell_type": "code",
      "metadata": {
        "id": "RoCr6A42jKiY"
      },
      "source": [
        "import math\n",
        "import numpy as np"
      ],
      "execution_count": 1,
      "outputs": []
    },
    {
      "cell_type": "code",
      "metadata": {
        "id": "SKrRzecucHZX"
      },
      "source": [
        "yn_array = []\n",
        "y0 = 1\n",
        "dy0 = 2\n",
        "t0 = 0\n",
        "t1 = 1000\n",
        "mu = 1000\n",
        "\n",
        "N = 10000000\n",
        "h = (t1 - t0)/N\n",
        "\n",
        "def iterate(tn, yn, dyn):\n",
        "    ynext = yn + h*dyn\n",
        "    dynext = dyn + h*(mu*(1-dyn**2)*dyn - yn)\n",
        "    return (ynext, dynext)\n",
        "\n",
        "tn = t0\n",
        "yn = 0\n",
        "dyn = dy0\n",
        "yn_array = [yn]\n",
        "while tn<t1:\n",
        "    yn, dyn = iterate(tn, yn, dyn)\n",
        "    yn_array.append(yn)\n",
        "    tn += h"
      ],
      "execution_count": 2,
      "outputs": []
    },
    {
      "cell_type": "code",
      "metadata": {
        "colab": {
          "base_uri": "https://localhost:8080/",
          "height": 282
        },
        "id": "3iz8pxXRgIxA",
        "outputId": "6056b44b-321c-42e4-e35e-eae2d1de9180"
      },
      "source": [
        "import matplotlib.pyplot as plt\n",
        "\n",
        "plt.plot(np.linspace(0, t1, len(yn_array)), yn_array)"
      ],
      "execution_count": 3,
      "outputs": [
        {
          "output_type": "execute_result",
          "data": {
            "text/plain": [
              "[<matplotlib.lines.Line2D at 0x7fc9c71b5e90>]"
            ]
          },
          "metadata": {},
          "execution_count": 3
        },
        {
          "output_type": "display_data",
          "data": {
            "image/png": "[encoded data removed]",
            "text/plain": [
              "<Figure size 432x288 with 1 Axes>"
            ]
          },
          "metadata": {
            "needs_background": "light"
          }
        }
      ]
    }
  ]
}