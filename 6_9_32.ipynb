{
  "nbformat": 4,
  "nbformat_minor": 0,
  "metadata": {
    "colab": {
      "name": "6-9-32.ipynb",
      "provenance": [],
      "collapsed_sections": [],
      "authorship_tag": "ABX9TyPcvfLNYBAvAUPPyshiEmEO"
    },
    "kernelspec": {
      "name": "python3",
      "display_name": "Python 3"
    },
    "language_info": {
      "name": "python"
    }
  },
  "cells": [
    {
      "cell_type": "code",
      "metadata": {
        "id": "WYcA0SonX-R_"
      },
      "source": [
        "import math\n",
        "import numpy as np\n",
        "import matplotlib.pyplot as plt"
      ],
      "execution_count": 1,
      "outputs": []
    },
    {
      "cell_type": "code",
      "metadata": {
        "id": "Jc6fwbjuV-Nl"
      },
      "source": [
        "x = [1900 + x*10 for x in range(1, 11)]\n",
        "y = [92228496, 106021537, 123202624, 132164569, 151325798, 179323175, 203211926, 226545805, 248709873, 281421906]"
      ],
      "execution_count": 2,
      "outputs": []
    },
    {
      "cell_type": "code",
      "metadata": {
        "id": "zQJXB0dzWzfh"
      },
      "source": [
        "def getValue(year):\n",
        "    return y[x.index(year)]"
      ],
      "execution_count": 3,
      "outputs": []
    },
    {
      "cell_type": "markdown",
      "metadata": {
        "id": "dep5r7VydR3W"
      },
      "source": [
        "## Интерполяция Ньютона"
      ]
    },
    {
      "cell_type": "code",
      "metadata": {
        "id": "aNF2EEjKX2-t"
      },
      "source": [
        "def newton_coef(x, y):\n",
        "    n = len(x)\n",
        "    coef = np.zeros([n, n])\n",
        "    coef[:, 0] = y\n",
        "    \n",
        "    for j in range(1, n):\n",
        "        for i in range(n - j):\n",
        "            coef[i][j] = (coef[i + 1][j-1] - coef[i][j - 1]) / (x[i + j] - x[i])\n",
        "\n",
        "    return coef[0, :]"
      ],
      "execution_count": 4,
      "outputs": []
    },
    {
      "cell_type": "code",
      "metadata": {
        "id": "wR9C7GTpX4gF"
      },
      "source": [
        "def polynomial(x, y, points):\n",
        "    a = newton_coef(x, y)\n",
        "    n = len(x) - 1\n",
        "\n",
        "    values = []\n",
        "    for x0 in points:\n",
        "        p = a[n]\n",
        "\n",
        "        for k in range(1, n + 1):\n",
        "            p = a[n - k] + (x0 - x[n - k]) * p\n",
        "\n",
        "        values.append(p)\n",
        "\n",
        "    return values"
      ],
      "execution_count": 5,
      "outputs": []
    },
    {
      "cell_type": "code",
      "metadata": {
        "colab": {
          "base_uri": "https://localhost:8080/",
          "height": 293
        },
        "id": "TrMXTt9nb0ph",
        "outputId": "fc2f5955-4ef1-4b5c-a151-2dfcf4c21d3b"
      },
      "source": [
        "points = [1900 + x for x in range(1, 111)]\n",
        "plt.plot(points, polynomial(x, y, points))\n",
        "plt.scatter(x, y)"
      ],
      "execution_count": 6,
      "outputs": [
        {
          "output_type": "execute_result",
          "data": {
            "text/plain": [
              "<matplotlib.collections.PathCollection at 0x7fd627143710>"
            ]
          },
          "metadata": {},
          "execution_count": 6
        },
        {
          "output_type": "display_data",
          "data": {
            "image/png": "[encoded data removed]",
            "text/plain": [
              "<Figure size 432x288 with 1 Axes>"
            ]
          },
          "metadata": {
            "needs_background": "light"
          }
        }
      ]
    },
    {
      "cell_type": "markdown",
      "metadata": {
        "id": "3iOPZV0bdKS4"
      },
      "source": [
        "В 2010 году"
      ]
    },
    {
      "cell_type": "code",
      "metadata": {
        "colab": {
          "base_uri": "https://localhost:8080/"
        },
        "id": "D3t7Yjq1cOx8",
        "outputId": "6cea97bf-0b16-4d9b-c029-c8ed795d64e3"
      },
      "source": [
        "print(*polynomial(x, y, [2010]))"
      ],
      "execution_count": 7,
      "outputs": [
        {
          "output_type": "stream",
          "name": "stdout",
          "text": [
            "827906509.000001\n"
          ]
        }
      ]
    },
    {
      "cell_type": "markdown",
      "metadata": {
        "id": "bzLnZtVbdWMZ"
      },
      "source": [
        "## Кубический сплайн"
      ]
    },
    {
      "cell_type": "code",
      "metadata": {
        "id": "J0YQDD81dyg_"
      },
      "source": [
        "def solveTriangleSlae(a, b, c, d):\n",
        "    n = len(b)\n",
        "    p, q = np.zeros(n), np.zeros(n)\n",
        "    c = c + [0]\n",
        "    p[0] = c[0] / b[0]\n",
        "    q[0] = d[0] / b[0]\n",
        "    for i in range(1, n):\n",
        "        j = i - 1\n",
        "        p[i] = - c[j] / (b[j] + (a[j] * p[j]))\n",
        "        q[i] = (d[j] - (a[j] * q[j])) / (b[j] + (a[j] * p[j]))\n",
        "\n",
        "    x = np.zeros(n + 1)\n",
        "\n",
        "    x[n] = q[-1]\n",
        "    for i in range(n - 1, 0, -1):\n",
        "        x[i] = q[i] + (x[i + 1] * p[i])\n",
        "    return x"
      ],
      "execution_count": 8,
      "outputs": []
    },
    {
      "cell_type": "code",
      "metadata": {
        "id": "aJcOyv76dma1"
      },
      "source": [
        "class CubicSpline:\n",
        "\n",
        "    def __init__(self, x, y):\n",
        "        self.x = np.array(x)\n",
        "        self.y = np.array(y)\n",
        "        self.n = len(x)\n",
        "        self.h = np.diff(x)\n",
        "        self.h = np.append(self.h, self.h[-1])\n",
        "        p = self.x.argsort()\n",
        "        self.x = self.x[p]\n",
        "        self.y = self.y[p]\n",
        "        self.a, self.b, self.c, self.d = self.fit()\n",
        "\n",
        "    def newtonDiff(self, i):\n",
        "        return (self.y[i] - self.y[i - 1]) / self.h[i]\n",
        "\n",
        "    def newtonDiff2(self, i):\n",
        "        return (self.newtonDiff(i) - self.newtonDiff(i - 1)) / (self.h[i] + self.h[i - 1])\n",
        "\n",
        "    def get_matrix(self):\n",
        "        a = np.zeros(self.n - 1)\n",
        "        b = np.zeros(self.n - 1)\n",
        "        c = np.zeros(self.n - 1)\n",
        "        d = np.zeros(self.n - 1)\n",
        "        for i in range(1, self.n - 1):\n",
        "            j = i - 1\n",
        "            b[j] = 2\n",
        "            a[j] = self.h[i] / (self.h[i] + self.h[i + 1])\n",
        "            c[j] = self.h[i + 1] / (self.h[i + 1] + self.h[i])\n",
        "            d[j] = 6 * self.newtonDiff2(i + 1)\n",
        "\n",
        "        return a, b, c, d\n",
        "\n",
        "    def fit(self):\n",
        "        am, bm, cm, dm = self.get_matrix()\n",
        "        N = len(self.x)\n",
        "        c = solveTriangleSlae(am, bm, cm, dm)\n",
        "        c = c[:-1]\n",
        "        a = self.y\n",
        "        d = np.zeros(N)\n",
        "        b = np.zeros(N)\n",
        "        c = np.append(c, 0)\n",
        "        c = np.append(c, 0)\n",
        "\n",
        "        for i in range(N - 1, 0, -1):\n",
        "            d[i] = (c[i] - c[i-1]) / self.h[i]\n",
        "            b[i] = self.h[i] * (2.0 * c[i] + c[i-1]) / 6.0 + (self.y[i] - self.y[i - 1]) / self.h[i]\n",
        "\n",
        "        d[0] = c[0] / self.h[0]\n",
        "        b[0] = self.newtonDiff(1) + (self.h[1] * c[0] / 3)\n",
        "        return a, b, c, d\n",
        "\n",
        "    def calculate(self, j, dx):\n",
        "        return self.a[j] + (self.b[j] * dx) + (self.c[j] * (dx**2) / 2) + (self.d[j] * (dx**3) / 6)\n",
        "\n",
        "    def interpolate(self, x):\n",
        "        for i in range(self.n):\n",
        "            if x <= self.x[i]:\n",
        "                j = i\n",
        "                dx = x - self.x[i]\n",
        "                return self.calculate(j, dx)\n",
        "        return self.calculate(self.n - 1, x - self.x[self.n - 1])"
      ],
      "execution_count": 9,
      "outputs": []
    },
    {
      "cell_type": "code",
      "metadata": {
        "colab": {
          "base_uri": "https://localhost:8080/",
          "height": 293
        },
        "id": "OjgvenGffZXv",
        "outputId": "82aa9c0f-a936-4a83-f7cd-4e5a539e00a1"
      },
      "source": [
        "spline = CubicSpline(x, y)\n",
        "\n",
        "points = [1900 + x for x in range(1, 111)]\n",
        "plt.plot(points, [spline.interpolate(x) for x in points])\n",
        "plt.scatter(x, y)"
      ],
      "execution_count": 10,
      "outputs": [
        {
          "output_type": "execute_result",
          "data": {
            "text/plain": [
              "<matplotlib.collections.PathCollection at 0x7fd627143610>"
            ]
          },
          "metadata": {},
          "execution_count": 10
        },
        {
          "output_type": "display_data",
          "data": {
            "image/png": "[encoded data removed]",
            "text/plain": [
              "<Figure size 432x288 with 1 Axes>"
            ]
          },
          "metadata": {
            "needs_background": "light"
          }
        }
      ]
    },
    {
      "cell_type": "markdown",
      "metadata": {
        "id": "y09rKZyIiO-6"
      },
      "source": [
        "В 2010 году"
      ]
    },
    {
      "cell_type": "code",
      "metadata": {
        "colab": {
          "base_uri": "https://localhost:8080/"
        },
        "id": "hFN_h5YGiDVR",
        "outputId": "ccb9ccbe-0abc-4fcf-cf7a-828cf7a7193a"
      },
      "source": [
        "spline.interpolate(2010)"
      ],
      "execution_count": 11,
      "outputs": [
        {
          "output_type": "execute_result",
          "data": {
            "text/plain": [
              "314133939.0"
            ]
          },
          "metadata": {},
          "execution_count": 11
        }
      ]
    },
    {
      "cell_type": "markdown",
      "metadata": {
        "id": "0D3iFK65iXh6"
      },
      "source": [
        "Точное значение составляет 308 745 человек. Экстраполяция сплайнами намного точнее предсказала результат"
      ]
    }
  ]
}