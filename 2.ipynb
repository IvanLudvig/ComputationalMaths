{
  "nbformat": 4,
  "nbformat_minor": 0,
  "metadata": {
    "colab": {
      "name": "3.ipynb",
      "provenance": [],
      "authorship_tag": "ABX9TyNyETo75bvG3hmtHgQ0iT8K"
    },
    "kernelspec": {
      "name": "python3",
      "display_name": "Python 3"
    },
    "language_info": {
      "name": "python"
    }
  },
  "cells": [
    {
      "cell_type": "code",
      "metadata": {
        "id": "LsovALlPZszH"
      },
      "source": [
        "import math"
      ],
      "execution_count": 1,
      "outputs": []
    },
    {
      "cell_type": "code",
      "metadata": {
        "id": "gwhU1GAQZvC1"
      },
      "source": [
        "f = lambda x: math.sin(100*x) * math.exp(-x**2) * math.cos(2*x)"
      ],
      "execution_count": 2,
      "outputs": []
    },
    {
      "cell_type": "code",
      "metadata": {
        "id": "vtXmJrvYZ3Ld"
      },
      "source": [
        "a = 0\n",
        "b = 3\n",
        "N = 100000\n",
        "h = (b - a) / N"
      ],
      "execution_count": 3,
      "outputs": []
    },
    {
      "cell_type": "markdown",
      "metadata": {
        "id": "6psE0lXIbORD"
      },
      "source": [
        "## Формула Трапеций"
      ]
    },
    {
      "cell_type": "code",
      "metadata": {
        "colab": {
          "base_uri": "https://localhost:8080/"
        },
        "id": "VhqRAtg-Z7eF",
        "outputId": "e648ed63-e623-4686-a346-8d083dbaf34f"
      },
      "source": [
        "I = 0\n",
        "for i in range(N):\n",
        "    I += (f(i*h) + f(i*h+h)) * h/2\n",
        "\n",
        "I"
      ],
      "execution_count": 4,
      "outputs": [
        {
          "output_type": "execute_result",
          "data": {
            "text/plain": [
              "0.010006090360359116"
            ]
          },
          "metadata": {},
          "execution_count": 4
        }
      ]
    },
    {
      "cell_type": "markdown",
      "metadata": {
        "id": "zs_ggRe8bQDw"
      },
      "source": [
        "## Формула Симпсона"
      ]
    },
    {
      "cell_type": "code",
      "metadata": {
        "colab": {
          "base_uri": "https://localhost:8080/"
        },
        "id": "Trq2rwcKbR-Z",
        "outputId": "5269221e-10c2-4676-901e-44d8fbb20a7a"
      },
      "source": [
        "I = 0\n",
        "for i in range(N):\n",
        "    I += (f(i*h) + 4*f((i+i+1)*h/2) + f(i*h+h)) * h/6\n",
        "\n",
        "I"
      ],
      "execution_count": 5,
      "outputs": [
        {
          "output_type": "execute_result",
          "data": {
            "text/plain": [
              "0.010006097860331799"
            ]
          },
          "metadata": {},
          "execution_count": 5
        }
      ]
    }
  ]
}
