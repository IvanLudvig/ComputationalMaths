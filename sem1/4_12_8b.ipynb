{
  "nbformat": 4,
  "nbformat_minor": 0,
  "metadata": {
    "colab": {
      "name": "4.12.8b.ipynb",
      "provenance": [],
      "authorship_tag": "ABX9TyP8JzQR3fsYZO/xsCya9rRG"
    },
    "kernelspec": {
      "name": "python3",
      "display_name": "Python 3"
    },
    "language_info": {
      "name": "python"
    }
  },
  "cells": [
    {
      "cell_type": "code",
      "metadata": {
        "id": "co63tWP_Ov_N"
      },
      "source": [
        "import math\n",
        "import numpy as np"
      ],
      "execution_count": null,
      "outputs": []
    },
    {
      "cell_type": "code",
      "metadata": {
        "id": "FUiShFouO0V1"
      },
      "source": [
        "eps = 1e-3\n",
        "f = lambda x: x * math.exp(-x**2) - (1 / (2 * math.sqrt(2 * math.e)))"
      ],
      "execution_count": null,
      "outputs": []
    },
    {
      "cell_type": "markdown",
      "metadata": {
        "id": "a4JNVAW4O2Mr"
      },
      "source": [
        "Локализация корней"
      ]
    },
    {
      "cell_type": "code",
      "metadata": {
        "id": "ur524ZkSO1vM"
      },
      "source": [
        "h = 0.1\n",
        "root_loc = []\n",
        "\n",
        "for x in np.arange(-2, 2, h):\n",
        "    if f(x) * f(x+h) <= 0:\n",
        "        root_loc.append(x)"
      ],
      "execution_count": null,
      "outputs": []
    },
    {
      "cell_type": "code",
      "metadata": {
        "colab": {
          "base_uri": "https://localhost:8080/"
        },
        "id": "ns6NHuMlT5_f",
        "outputId": "f9d7b451-5df4-4526-eae0-9dc80f946eee"
      },
      "source": [
        "print([round(x, 3) for x in root_loc])"
      ],
      "execution_count": null,
      "outputs": [
        {
          "output_type": "stream",
          "name": "stdout",
          "text": [
            "[0.2, 1.3]\n"
          ]
        }
      ]
    },
    {
      "cell_type": "markdown",
      "metadata": {
        "id": "9zZ_Wkx1TOoV"
      },
      "source": [
        "Функции для метода простой итерации. phi1 сходится на отрезке локализации первого корня, phi2 — второго"
      ]
    },
    {
      "cell_type": "code",
      "metadata": {
        "id": "8TKKpUXFTN3P"
      },
      "source": [
        "phi1 = lambda x: math.exp(x**2) / (2 * math.sqrt(2 * math.e))\n",
        "phi2 = lambda x: math.sqrt(math.log(2 * x * math.sqrt(2 * math.e)))"
      ],
      "execution_count": null,
      "outputs": []
    },
    {
      "cell_type": "markdown",
      "metadata": {
        "id": "HuUWyWIOTr7m"
      },
      "source": [
        "Функция итерации"
      ]
    },
    {
      "cell_type": "code",
      "metadata": {
        "id": "eleCyTypPQ47"
      },
      "source": [
        "def iterate(x, phi):\n",
        "    if abs(phi(x) - x) < eps / 2:\n",
        "        return x\n",
        "    return iterate(phi(x), phi)"
      ],
      "execution_count": null,
      "outputs": []
    },
    {
      "cell_type": "markdown",
      "metadata": {
        "id": "JZST_L1_TuXR"
      },
      "source": [
        "Нахождение корней"
      ]
    },
    {
      "cell_type": "code",
      "metadata": {
        "id": "lsmeQxzBROCQ"
      },
      "source": [
        "root1 = iterate(root_loc[0], phi1)\n",
        "root2 = iterate(root_loc[1], phi2)"
      ],
      "execution_count": null,
      "outputs": []
    },
    {
      "cell_type": "code",
      "metadata": {
        "colab": {
          "base_uri": "https://localhost:8080/"
        },
        "id": "fciyoEfJRXTw",
        "outputId": "ef858450-cf3f-42df-d951-ebe9776bdc05"
      },
      "source": [
        "print(f'{round(root1, 3)}, {round(root2, 3)}')"
      ],
      "execution_count": null,
      "outputs": [
        {
          "output_type": "stream",
          "name": "stdout",
          "text": [
            "0.225, 1.358\n"
          ]
        }
      ]
    },
    {
      "cell_type": "markdown",
      "metadata": {
        "id": "3tBa4uRQUj-l"
      },
      "source": [
        "Ширина функции"
      ]
    },
    {
      "cell_type": "code",
      "metadata": {
        "colab": {
          "base_uri": "https://localhost:8080/"
        },
        "id": "lxIa15K2UdM7",
        "outputId": "327ec4ec-af7f-4796-e22d-2be830c9d26a"
      },
      "source": [
        "print(round(abs(root2 - root1), 3))"
      ],
      "execution_count": null,
      "outputs": [
        {
          "output_type": "stream",
          "name": "stdout",
          "text": [
            "1.133\n"
          ]
        }
      ]
    }
  ]
}