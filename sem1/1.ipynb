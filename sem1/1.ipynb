{
  "nbformat": 4,
  "nbformat_minor": 0,
  "metadata": {
    "colab": {
      "name": "1.ipynb",
      "provenance": [],
      "authorship_tag": "ABX9TyOhbhkls41g7e/c170spEZT"
    },
    "kernelspec": {
      "name": "python3",
      "display_name": "Python 3"
    },
    "language_info": {
      "name": "python"
    }
  },
  "cells": [
    {
      "cell_type": "code",
      "metadata": {
        "id": "RoCr6A42jKiY"
      },
      "source": [
        "import math\n",
        "import numpy as np"
      ],
      "execution_count": 1,
      "outputs": []
    },
    {
      "cell_type": "code",
      "metadata": {
        "id": "Ii8cJ6DqkL2x"
      },
      "source": [
        "f1 = lambda x, y: x**2 + y**2 - 1\n",
        "f2 = lambda x, y: y - math.tan(x)\n",
        "F = lambda x, y: [f1(x, y), f2(x, y)]\n",
        "J = lambda x, y: np.array([[2*x, 2*y], [-1 / (math.cos(x)**2), 1]])"
      ],
      "execution_count": 2,
      "outputs": []
    },
    {
      "cell_type": "code",
      "metadata": {
        "id": "Yo10d07olTHg"
      },
      "source": [
        "eps = 1e-6"
      ],
      "execution_count": 3,
      "outputs": []
    },
    {
      "cell_type": "code",
      "metadata": {
        "id": "A0O8hT5klCwo"
      },
      "source": [
        "def newtonMethod(z0):\n",
        "    z1 = z0.copy()\n",
        "    z2 = z1 - np.linalg.inv(J(*z1)) @ F(*z1)\n",
        "    while abs(z1 - z2).any() > eps:\n",
        "        z1 = z2.copy()\n",
        "        z2 = z2 - np.linalg.inv(J(*z2)) @ F(*z2)\n",
        "    return z2"
      ],
      "execution_count": 4,
      "outputs": []
    },
    {
      "cell_type": "code",
      "metadata": {
        "colab": {
          "base_uri": "https://localhost:8080/"
        },
        "id": "pt08wZ3EOvqY",
        "outputId": "a70384a2-32d0-4acc-cd2e-82cf9a85188b"
      },
      "source": [
        "print(newtonMethod(np.array([1, 1])))"
      ],
      "execution_count": 5,
      "outputs": [
        {
          "output_type": "stream",
          "name": "stdout",
          "text": [
            "[0.64988895 0.76002918]\n"
          ]
        }
      ]
    },
    {
      "cell_type": "code",
      "metadata": {
        "colab": {
          "base_uri": "https://localhost:8080/"
        },
        "id": "Gg_HsOAlPAsL",
        "outputId": "cf61266f-0716-42a8-9583-fd3e130e0790"
      },
      "source": [
        "print(newtonMethod(np.array([-1, -1])))"
      ],
      "execution_count": 6,
      "outputs": [
        {
          "output_type": "stream",
          "name": "stdout",
          "text": [
            "[-0.64988895 -0.76002918]\n"
          ]
        }
      ]
    }
  ]
}