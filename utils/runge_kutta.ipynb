{
  "nbformat": 4,
  "nbformat_minor": 0,
  "metadata": {
    "colab": {
      "name": "runge-kutta.ipynb",
      "provenance": [],
      "collapsed_sections": [],
      "include_colab_link": true
    },
    "kernelspec": {
      "name": "python3",
      "display_name": "Python 3"
    },
    "language_info": {
      "name": "python"
    }
  },
  "cells": [
    {
      "cell_type": "markdown",
      "metadata": {
        "id": "view-in-github",
        "colab_type": "text"
      },
      "source": [
        "<a href=\"https://colab.research.google.com/github/IvanLudvig/ComputationalMaths/blob/master/utils/runge_kutta.ipynb\" target=\"_parent\"><img src=\"https://colab.research.google.com/assets/colab-badge.svg\" alt=\"Open In Colab\"/></a>"
      ]
    },
    {
      "cell_type": "code",
      "metadata": {
        "id": "UBCxRlmoWpOl"
      },
      "source": [
        "from sympy import *"
      ],
      "execution_count": 1,
      "outputs": []
    },
    {
      "cell_type": "code",
      "metadata": {
        "id": "CPZflNSRWtHC"
      },
      "source": [
        "z = symbols('z')"
      ],
      "execution_count": 2,
      "outputs": []
    },
    {
      "cell_type": "code",
      "metadata": {
        "id": "C8GGyK5ZXBBk"
      },
      "source": [
        "A = Matrix([[0, 0, 0], [1/3, 0, 0], [0, 2/3, 0]])\n",
        "b = Matrix([[1/4, 0, 3/4]])\n",
        "c = Matrix([[0, 1/3, 2/3]])"
      ],
      "execution_count": 3,
      "outputs": []
    },
    {
      "cell_type": "markdown",
      "metadata": {
        "id": "HvSL11GTc3Ol"
      },
      "source": [
        "## Порядок Аппроксимации"
      ]
    },
    {
      "cell_type": "markdown",
      "metadata": {
        "id": "7if8hj5db87Y"
      },
      "source": [
        "Условие Кутты"
      ]
    },
    {
      "cell_type": "code",
      "metadata": {
        "colab": {
          "base_uri": "https://localhost:8080/"
        },
        "id": "V83ytQanb4Xz",
        "outputId": "4cadf8ce-ff08-4873-e4cf-dcfbe624c794"
      },
      "source": [
        "(sum(c), sum(c)==1)"
      ],
      "execution_count": 4,
      "outputs": [
        {
          "output_type": "execute_result",
          "data": {
            "text/plain": [
              "(1.00000000000000, True)"
            ]
          },
          "metadata": {},
          "execution_count": 4
        }
      ]
    },
    {
      "cell_type": "markdown",
      "metadata": {
        "id": "7IDHrGXFb-YV"
      },
      "source": [
        "p=1"
      ]
    },
    {
      "cell_type": "code",
      "metadata": {
        "colab": {
          "base_uri": "https://localhost:8080/"
        },
        "id": "leAjyEOTb6kH",
        "outputId": "b2861d8d-8d6d-44a5-9977-f0a8cc461996"
      },
      "source": [
        "(sum(b), sum(b)==1)"
      ],
      "execution_count": 5,
      "outputs": [
        {
          "output_type": "execute_result",
          "data": {
            "text/plain": [
              "(1.00000000000000, True)"
            ]
          },
          "metadata": {},
          "execution_count": 5
        }
      ]
    },
    {
      "cell_type": "markdown",
      "metadata": {
        "id": "XU6wnZLBcAT9"
      },
      "source": [
        "p=2"
      ]
    },
    {
      "cell_type": "code",
      "metadata": {
        "colab": {
          "base_uri": "https://localhost:8080/"
        },
        "id": "yZlHT-GycA5Y",
        "outputId": "bccf7104-e788-4890-81cb-b64a582c4d1d"
      },
      "source": [
        "res = 0\n",
        "for i in range(len(c)):\n",
        "    res += c[i]*b[i]\n",
        "\n",
        "(2*res, 2*res == 1)"
      ],
      "execution_count": 6,
      "outputs": [
        {
          "output_type": "execute_result",
          "data": {
            "text/plain": [
              "(1.00000000000000, True)"
            ]
          },
          "metadata": {},
          "execution_count": 6
        }
      ]
    },
    {
      "cell_type": "markdown",
      "metadata": {
        "id": "QOzKo_wacBL9"
      },
      "source": [
        "p=3"
      ]
    },
    {
      "cell_type": "code",
      "metadata": {
        "colab": {
          "base_uri": "https://localhost:8080/"
        },
        "id": "-bTM_lCUcdDS",
        "outputId": "d6a2477a-d3fe-43b5-9200-2c4a361abb13"
      },
      "source": [
        "res1 = 0\n",
        "for i in range(len(c)):\n",
        "    res1 += (c[i]**2)*b[i]\n",
        "\n",
        "res2 = 0\n",
        "for i in range(len(c)):\n",
        "    for j in range(len(c)):\n",
        "        for k in range(len(c)):\n",
        "            res2 += b[i]*A[i, j]*A[j, k]\n",
        "\n",
        "(3*res1, 6*res2, 3*res1 == 1 and 6*res2 == 1)"
      ],
      "execution_count": 7,
      "outputs": [
        {
          "output_type": "execute_result",
          "data": {
            "text/plain": [
              "(1.00000000000000, 1.00000000000000, True)"
            ]
          },
          "metadata": {},
          "execution_count": 7
        }
      ]
    },
    {
      "cell_type": "markdown",
      "metadata": {
        "id": "sEdScDKLc-p-"
      },
      "source": [
        "## Функция устойчивости"
      ]
    },
    {
      "cell_type": "code",
      "metadata": {
        "colab": {
          "base_uri": "https://localhost:8080/",
          "height": 37
        },
        "id": "wGjTiarDXcV8",
        "outputId": "d2dda0c1-2fbe-4242-b338-c98fa4c463fb"
      },
      "source": [
        "denom = (eye(3)-z*A).det()\n",
        "denom"
      ],
      "execution_count": 8,
      "outputs": [
        {
          "output_type": "execute_result",
          "data": {
            "text/latex": "$\\displaystyle 1$",
            "text/plain": [
              "1"
            ]
          },
          "metadata": {},
          "execution_count": 8
        }
      ]
    },
    {
      "cell_type": "code",
      "metadata": {
        "colab": {
          "base_uri": "https://localhost:8080/",
          "height": 38
        },
        "id": "GM4ze5ULXoPl",
        "outputId": "f0143c7c-02b8-4ff1-8a52-3fe607dafa00"
      },
      "source": [
        "e = Matrix([[1, 1, 1]])\n",
        "num = (eye(3)-z*A+z*e.T*b).det()\n",
        "num"
      ],
      "execution_count": 9,
      "outputs": [
        {
          "output_type": "execute_result",
          "data": {
            "text/latex": "$\\displaystyle 0.166666666666667 z^{3} + 0.5 z^{2} + 1.0 z + 1$",
            "text/plain": [
              "0.166666666666667*z**3 + 0.5*z**2 + 1.0*z + 1"
            ]
          },
          "metadata": {},
          "execution_count": 9
        }
      ]
    },
    {
      "cell_type": "code",
      "metadata": {
        "colab": {
          "base_uri": "https://localhost:8080/",
          "height": 54
        },
        "id": "cHAXPoixY7nK",
        "outputId": "17bc9d68-17b2-4f0e-e4c9-53e8fb794361"
      },
      "source": [
        "R = Function('R')(z)\n",
        "R = num/denom\n",
        "nsimplify(R)"
      ],
      "execution_count": 10,
      "outputs": [
        {
          "output_type": "execute_result",
          "data": {
            "text/latex": "$\\displaystyle \\frac{z^{3}}{6} + \\frac{z^{2}}{2} + z + 1$",
            "text/plain": [
              "z**3/6 + z**2/2 + z + 1"
            ]
          },
          "metadata": {},
          "execution_count": 10
        }
      ]
    },
    {
      "cell_type": "code",
      "metadata": {
        "colab": {
          "base_uri": "https://localhost:8080/",
          "height": 54
        },
        "id": "lOjuwSpnZLiq",
        "outputId": "4f6c30c1-0863-4137-8b2a-0a9d9cd3c56e"
      },
      "source": [
        "r = R-exp(z).series()\n",
        "r"
      ],
      "execution_count": 11,
      "outputs": [
        {
          "output_type": "execute_result",
          "data": {
            "text/latex": "$\\displaystyle - \\frac{z^{4}}{24} - \\frac{z^{5}}{120} + O\\left(z^{6}\\right)$",
            "text/plain": [
              "-z**4/24 - z**5/120 + O(z**6)"
            ]
          },
          "metadata": {},
          "execution_count": 11
        }
      ]
    },
    {
      "cell_type": "code",
      "metadata": {
        "colab": {
          "base_uri": "https://localhost:8080/",
          "height": 39
        },
        "id": "37YqrC7yiRTs",
        "outputId": "e2108c49-271c-4466-ba3c-047020ba1abf"
      },
      "source": [
        "r + O(z**4)"
      ],
      "execution_count": 12,
      "outputs": [
        {
          "output_type": "execute_result",
          "data": {
            "text/latex": "$\\displaystyle O\\left(z^{4}\\right)$",
            "text/plain": [
              "O(z**4)"
            ]
          },
          "metadata": {},
          "execution_count": 12
        }
      ]
    },
    {
      "cell_type": "markdown",
      "metadata": {
        "id": "dUjs7v84ZXKk"
      },
      "source": [
        "O(z**4) => p=3"
      ]
    },
    {
      "cell_type": "markdown",
      "metadata": {
        "id": "o5hB4UFsdCCi"
      },
      "source": [
        "### A-устойчивость"
      ]
    },
    {
      "cell_type": "code",
      "metadata": {
        "colab": {
          "base_uri": "https://localhost:8080/",
          "height": 38
        },
        "id": "7i3-Ctm2Z1jK",
        "outputId": "d30f5b1f-3879-4f27-9928-122be983d2e3"
      },
      "source": [
        "solve(abs(R.subs(z, I*z))<=1)"
      ],
      "execution_count": 13,
      "outputs": [
        {
          "output_type": "execute_result",
          "data": {
            "text/latex": "$\\displaystyle -1.73205080756888 \\leq z \\wedge z \\leq 1.73205080756888$",
            "text/plain": [
              "(-1.73205080756888 <= z) & (z <= 1.73205080756888)"
            ]
          },
          "metadata": {},
          "execution_count": 13
        }
      ]
    },
    {
      "cell_type": "markdown",
      "metadata": {
        "id": "NSXnuWKdbNt_"
      },
      "source": [
        "не является A-уст"
      ]
    },
    {
      "cell_type": "markdown",
      "metadata": {
        "id": "O2pkHKVkdFof"
      },
      "source": [
        "### L-устойчивость"
      ]
    },
    {
      "cell_type": "code",
      "metadata": {
        "colab": {
          "base_uri": "https://localhost:8080/"
        },
        "id": "G1A41i63bQcd",
        "outputId": "4dbac272-59e6-409a-d8ac-c4d4ab581262"
      },
      "source": [
        "(limit(R, z, -oo), limit(R, z, -oo)==0)"
      ],
      "execution_count": 14,
      "outputs": [
        {
          "output_type": "execute_result",
          "data": {
            "text/plain": [
              "(-oo, False)"
            ]
          },
          "metadata": {},
          "execution_count": 14
        }
      ]
    },
    {
      "cell_type": "markdown",
      "metadata": {
        "id": "BjcipiqibaLm"
      },
      "source": [
        "не является L-уст"
      ]
    },
    {
      "cell_type": "markdown",
      "metadata": {
        "id": "PNriVnDmeZBy"
      },
      "source": [
        "## Расчетные формулы"
      ]
    },
    {
      "cell_type": "code",
      "metadata": {
        "id": "yns-4ewIedEt"
      },
      "source": [
        "u, u1, t, tau = symbols('u_n u_{n+1} t_n tau')\n",
        "f = Function('f')(t, u)"
      ],
      "execution_count": 15,
      "outputs": []
    },
    {
      "cell_type": "code",
      "metadata": {
        "id": "LfdQkubvfEQF"
      },
      "source": [
        "k1, k2, k3 = symbols('k1 k2 k3')\n",
        "ksym = [k1, k2, k3]\n",
        "kk = []\n",
        "for i in range(len(c)):\n",
        "    uu = 0\n",
        "    for j in range(len(b)):\n",
        "        uu += A[i, j] * ksym[i]\n",
        "    uu *= tau\n",
        "    k = f.subs(t, t+c[i]*tau).subs(u, u + uu)\n",
        "    kk.append(nsimplify(k))"
      ],
      "execution_count": 16,
      "outputs": []
    },
    {
      "cell_type": "code",
      "metadata": {
        "colab": {
          "base_uri": "https://localhost:8080/",
          "height": 38
        },
        "id": "3mHEpgyLg2ok",
        "outputId": "f5845336-87fb-4a77-9baa-884adafaea35"
      },
      "source": [
        "Eq(k1, kk[0])"
      ],
      "execution_count": 17,
      "outputs": [
        {
          "output_type": "execute_result",
          "data": {
            "text/latex": "$\\displaystyle k_{1} = f{\\left(t_{n},u_{n} \\right)}$",
            "text/plain": [
              "Eq(k1, f(t_n, u_n))"
            ]
          },
          "metadata": {},
          "execution_count": 17
        }
      ]
    },
    {
      "cell_type": "code",
      "metadata": {
        "colab": {
          "base_uri": "https://localhost:8080/",
          "height": 58
        },
        "id": "fEDFXaOVhCDV",
        "outputId": "bbf4b10c-c27f-407b-c7b7-6926ebaf6be3"
      },
      "source": [
        "Eq(k2, kk[1])"
      ],
      "execution_count": 18,
      "outputs": [
        {
          "output_type": "execute_result",
          "data": {
            "text/latex": "$\\displaystyle k_{2} = f{\\left(t_{n} + \\frac{\\tau}{3},\\frac{k_{2} \\tau}{3} + u_{n} \\right)}$",
            "text/plain": [
              "Eq(k2, f(t_n + tau/3, k2*tau/3 + u_n))"
            ]
          },
          "metadata": {},
          "execution_count": 18
        }
      ]
    },
    {
      "cell_type": "code",
      "metadata": {
        "colab": {
          "base_uri": "https://localhost:8080/",
          "height": 58
        },
        "id": "6PufoJIkhGdk",
        "outputId": "2919cc31-97df-40ca-8cea-d15d2a7e9b70"
      },
      "source": [
        "Eq(k3, kk[2])"
      ],
      "execution_count": 19,
      "outputs": [
        {
          "output_type": "execute_result",
          "data": {
            "text/latex": "$\\displaystyle k_{3} = f{\\left(t_{n} + \\frac{2 \\tau}{3},\\frac{2 k_{3} \\tau}{3} + u_{n} \\right)}$",
            "text/plain": [
              "Eq(k3, f(t_n + 2*tau/3, 2*k3*tau/3 + u_n))"
            ]
          },
          "metadata": {},
          "execution_count": 19
        }
      ]
    },
    {
      "cell_type": "code",
      "metadata": {
        "id": "Rn20SpHnga99"
      },
      "source": [
        "ksum = 0\n",
        "for i in range(len(b)):\n",
        "    ksum += b[i] * ksym[i]\n",
        "\n",
        "ksum *= tau"
      ],
      "execution_count": 20,
      "outputs": []
    },
    {
      "cell_type": "code",
      "metadata": {
        "colab": {
          "base_uri": "https://localhost:8080/",
          "height": 58
        },
        "id": "gi-uDDYjheYF",
        "outputId": "3e7cff76-bac1-4977-8f3d-3b14cc9bb01b"
      },
      "source": [
        "Eq(u1, u + nsimplify(ksum))"
      ],
      "execution_count": 21,
      "outputs": [
        {
          "output_type": "execute_result",
          "data": {
            "text/latex": "$\\displaystyle u_{n+1} = \\tau \\left(\\frac{k_{1}}{4} + \\frac{3 k_{3}}{4}\\right) + u_{n}$",
            "text/plain": [
              "Eq(u_{n+1}, tau*(k1/4 + 3*k3/4) + u_n)"
            ]
          },
          "metadata": {},
          "execution_count": 21
        }
      ]
    }
  ]
}