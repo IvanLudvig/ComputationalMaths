{
  "nbformat": 4,
  "nbformat_minor": 0,
  "metadata": {
    "colab": {
      "name": "bisection.ipynb",
      "provenance": [],
      "authorship_tag": "ABX9TyOlkqh11Fr8uOZUhJkiUE0Y",
      "include_colab_link": true
    },
    "kernelspec": {
      "name": "python3",
      "display_name": "Python 3"
    },
    "language_info": {
      "name": "python"
    }
  },
  "cells": [
    {
      "cell_type": "markdown",
      "metadata": {
        "id": "view-in-github",
        "colab_type": "text"
      },
      "source": [
        "<a href=\"https://colab.research.google.com/github/IvanLudvig/ComputationalMaths/blob/master/utils/bisection.ipynb\" target=\"_parent\"><img src=\"https://colab.research.google.com/assets/colab-badge.svg\" alt=\"Open In Colab\"/></a>"
      ]
    },
    {
      "cell_type": "code",
      "metadata": {
        "id": "sGEMKAwpdMpi"
      },
      "source": [
        "import math\n",
        "import numpy as np\n",
        "import matplotlib.pyplot as plt"
      ],
      "execution_count": 1,
      "outputs": []
    },
    {
      "cell_type": "code",
      "metadata": {
        "id": "DdavIxlpdZ07"
      },
      "source": [
        "f = lambda x: 20*(x**3) - 4*(x**2) - 5*x + 1\n",
        "df = lambda x: 60*(x**2) - 8*x - 5\n",
        "eps = 1e-6"
      ],
      "execution_count": 2,
      "outputs": []
    },
    {
      "cell_type": "code",
      "metadata": {
        "colab": {
          "base_uri": "https://localhost:8080/",
          "height": 265
        },
        "id": "eu8Mw_vBdmn2",
        "outputId": "473853af-07e9-42ca-ffaf-93e35dd86719"
      },
      "source": [
        "N = 1000\n",
        "a = -1\n",
        "b = 1\n",
        "h = (b - a) / N\n",
        "r = np.linspace(a, b, N)\n",
        "plt.plot(r, [f(x) for x in r])\n",
        "plt.plot(r, [0 for x in r])\n",
        "plt.grid()"
      ],
      "execution_count": 3,
      "outputs": [
        {
          "output_type": "display_data",
          "data": {
            "image/png": "[encoded data removed]",
            "text/plain": [
              "<Figure size 432x288 with 1 Axes>"
            ]
          },
          "metadata": {
            "needs_background": "light"
          }
        }
      ]
    },
    {
      "cell_type": "code",
      "metadata": {
        "colab": {
          "base_uri": "https://localhost:8080/"
        },
        "id": "8kYAsF2xd-Kl",
        "outputId": "028c7e85-516e-4de9-f0ac-2c70d6d9749f"
      },
      "source": [
        "loc = []\n",
        "for x in np.arange(a, b, h):\n",
        "    if f(x) * f(x + h) < 0:\n",
        "        loc.append(x)\n",
        "\n",
        "print('roots localized:')\n",
        "for x in loc:\n",
        "    print('(', x, ', ', x + h, ')', sep='')"
      ],
      "execution_count": 4,
      "outputs": [
        {
          "output_type": "stream",
          "name": "stdout",
          "text": [
            "roots localized:\n",
            "(-0.5019999999999996, -0.49999999999999956)\n",
            "(0.19800000000000106, 0.20000000000000107)\n",
            "(0.49800000000000133, 0.5000000000000013)\n"
          ]
        }
      ]
    },
    {
      "cell_type": "code",
      "metadata": {
        "id": "UqarvicJeJMp"
      },
      "source": [
        "eps = 1e-8\n",
        "def find_root(x1, x2):\n",
        "    if abs(x1 - x2) < eps:\n",
        "        return x1\n",
        "\n",
        "    if f(x1) * f((x1 + x2) / 2) < 0:\n",
        "        return find_root(x1, (x1 + x2) / 2)\n",
        "    if f((x1 + x2) / 2) * f(x2) < 0:\n",
        "        return find_root((x1 + x2) / 2, x2)\n",
        "\n",
        "    return (x1 + x2) / 2"
      ],
      "execution_count": 5,
      "outputs": []
    },
    {
      "cell_type": "code",
      "metadata": {
        "colab": {
          "base_uri": "https://localhost:8080/"
        },
        "id": "jfsbF6YBeQ0X",
        "outputId": "23b06881-a97a-4291-82ce-18c1ff6dfc7a"
      },
      "source": [
        "roots = [find_root(x, x + h) for x in loc]\n",
        "\n",
        "print('roots: ', roots)"
      ],
      "execution_count": 6,
      "outputs": [
        {
          "output_type": "stream",
          "name": "stdout",
          "text": [
            "roots:  [-0.5000000076293941, 0.19999999237060653, 0.49999999237060677]\n"
          ]
        }
      ]
    }
  ]
}