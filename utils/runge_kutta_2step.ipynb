{
  "nbformat": 4,
  "nbformat_minor": 0,
  "metadata": {
    "colab": {
      "name": "runge-kutta-2step.ipynb",
      "provenance": [],
      "collapsed_sections": [],
      "include_colab_link": true
    },
    "kernelspec": {
      "name": "python3",
      "display_name": "Python 3"
    },
    "language_info": {
      "name": "python"
    }
  },
  "cells": [
    {
      "cell_type": "markdown",
      "metadata": {
        "id": "view-in-github",
        "colab_type": "text"
      },
      "source": [
        "<a href=\"https://colab.research.google.com/github/IvanLudvig/ComputationalMaths/blob/master/utils/runge_kutta_2step.ipynb\" target=\"_parent\"><img src=\"https://colab.research.google.com/assets/colab-badge.svg\" alt=\"Open In Colab\"/></a>"
      ]
    },
    {
      "cell_type": "code",
      "metadata": {
        "id": "UBCxRlmoWpOl"
      },
      "source": [
        "from sympy import *"
      ],
      "execution_count": 1,
      "outputs": []
    },
    {
      "cell_type": "code",
      "metadata": {
        "id": "CPZflNSRWtHC"
      },
      "source": [
        "z = symbols('z')"
      ],
      "execution_count": 2,
      "outputs": []
    },
    {
      "cell_type": "code",
      "metadata": {
        "id": "C8GGyK5ZXBBk"
      },
      "source": [
        "A = Matrix([[1, 0], [3/2, 2]])\n",
        "b = Matrix([[2/3, 1/3]])\n",
        "c = Matrix([[1, 1/2]])"
      ],
      "execution_count": 3,
      "outputs": []
    },
    {
      "cell_type": "markdown",
      "metadata": {
        "id": "HvSL11GTc3Ol"
      },
      "source": [
        "## Порядок Аппроксимации"
      ]
    },
    {
      "cell_type": "markdown",
      "metadata": {
        "id": "7if8hj5db87Y"
      },
      "source": [
        "Условие Кутты"
      ]
    },
    {
      "cell_type": "code",
      "metadata": {
        "colab": {
          "base_uri": "https://localhost:8080/"
        },
        "id": "V83ytQanb4Xz",
        "outputId": "1e5a177b-1d00-4065-9e9f-da1a1d5b496e"
      },
      "source": [
        "(sum(c), sum(c)==1)"
      ],
      "execution_count": 4,
      "outputs": [
        {
          "output_type": "execute_result",
          "data": {
            "text/plain": [
              "(1.50000000000000, False)"
            ]
          },
          "metadata": {},
          "execution_count": 4
        }
      ]
    },
    {
      "cell_type": "markdown",
      "metadata": {
        "id": "7IDHrGXFb-YV"
      },
      "source": [
        "p=1"
      ]
    },
    {
      "cell_type": "code",
      "metadata": {
        "colab": {
          "base_uri": "https://localhost:8080/"
        },
        "id": "leAjyEOTb6kH",
        "outputId": "551c67cf-1a25-4830-cda4-67b1ddc5f081"
      },
      "source": [
        "(sum(b), sum(b)==1)"
      ],
      "execution_count": 5,
      "outputs": [
        {
          "output_type": "execute_result",
          "data": {
            "text/plain": [
              "(1.00000000000000, True)"
            ]
          },
          "metadata": {},
          "execution_count": 5
        }
      ]
    },
    {
      "cell_type": "markdown",
      "metadata": {
        "id": "XU6wnZLBcAT9"
      },
      "source": [
        "p=2"
      ]
    },
    {
      "cell_type": "code",
      "metadata": {
        "colab": {
          "base_uri": "https://localhost:8080/"
        },
        "id": "yZlHT-GycA5Y",
        "outputId": "924a9f6e-5483-4ef1-d36b-ade77f5c090b"
      },
      "source": [
        "res = 0\n",
        "for i in range(len(c)):\n",
        "    res += c[i]*b[i]\n",
        "\n",
        "(2*res, 2*res == 1)"
      ],
      "execution_count": 6,
      "outputs": [
        {
          "output_type": "execute_result",
          "data": {
            "text/plain": [
              "(1.66666666666667, False)"
            ]
          },
          "metadata": {},
          "execution_count": 6
        }
      ]
    },
    {
      "cell_type": "markdown",
      "metadata": {
        "id": "QOzKo_wacBL9"
      },
      "source": [
        "p=3"
      ]
    },
    {
      "cell_type": "code",
      "metadata": {
        "colab": {
          "base_uri": "https://localhost:8080/"
        },
        "id": "-bTM_lCUcdDS",
        "outputId": "430389fe-0ec8-4187-e577-e1251100fd1a"
      },
      "source": [
        "res1 = 0\n",
        "# for i in range(len(c)):\n",
        "#     res1 += (c[i]**2)*b[i]\n",
        "\n",
        "for i in range(len(c)):\n",
        "    for j in range(len(c)):\n",
        "        for k in range(len(c)):\n",
        "            res1 += b[i]*A[i, j]*A[i, k]\n",
        "\n",
        "res2 = 0\n",
        "for i in range(len(c)):\n",
        "    for j in range(len(c)):\n",
        "        for k in range(len(c)):\n",
        "            res2 += b[i]*A[i, j]*A[j, k]\n",
        "\n",
        "(3*res1, 6*res2, 3*res1 == 1 and 6*res2 == 1)"
      ],
      "execution_count": 7,
      "outputs": [
        {
          "output_type": "execute_result",
          "data": {
            "text/plain": [
              "(14.2500000000000, 21.0000000000000, False)"
            ]
          },
          "metadata": {},
          "execution_count": 7
        }
      ]
    },
    {
      "cell_type": "markdown",
      "metadata": {
        "id": "sEdScDKLc-p-"
      },
      "source": [
        "## Функция устойчивости"
      ]
    },
    {
      "cell_type": "code",
      "metadata": {
        "colab": {
          "base_uri": "https://localhost:8080/",
          "height": 38
        },
        "id": "wGjTiarDXcV8",
        "outputId": "144c5065-a365-4238-ef45-1df48fd2f03f"
      },
      "source": [
        "denom = (eye(2)-z*A).det()\n",
        "denom"
      ],
      "execution_count": 8,
      "outputs": [
        {
          "output_type": "execute_result",
          "data": {
            "text/latex": "$\\displaystyle 2 z^{2} - 3 z + 1$",
            "text/plain": [
              "2*z**2 - 3*z + 1"
            ]
          },
          "metadata": {},
          "execution_count": 8
        }
      ]
    },
    {
      "cell_type": "code",
      "metadata": {
        "colab": {
          "base_uri": "https://localhost:8080/",
          "height": 38
        },
        "id": "GM4ze5ULXoPl",
        "outputId": "37894818-c4e5-4005-83d7-ad83a8b4f37f"
      },
      "source": [
        "e = Matrix([[1, 1]])\n",
        "num = (eye(2)-z*A+z*e.T*b).det()\n",
        "num"
      ],
      "execution_count": 9,
      "outputs": [
        {
          "output_type": "execute_result",
          "data": {
            "text/latex": "$\\displaystyle 0.833333333333333 z^{2} - 2.0 z + 1$",
            "text/plain": [
              "0.833333333333333*z**2 - 2.0*z + 1"
            ]
          },
          "metadata": {},
          "execution_count": 9
        }
      ]
    },
    {
      "cell_type": "code",
      "metadata": {
        "colab": {
          "base_uri": "https://localhost:8080/",
          "height": 60
        },
        "id": "cHAXPoixY7nK",
        "outputId": "0ca83ee1-33b6-4e57-ea7b-e9d3fd88f0a3"
      },
      "source": [
        "R = Function('R')(z)\n",
        "R = num/denom\n",
        "nsimplify(R)"
      ],
      "execution_count": 10,
      "outputs": [
        {
          "output_type": "execute_result",
          "data": {
            "text/latex": "$\\displaystyle \\frac{\\frac{5 z^{2}}{6} - 2 z + 1}{2 z^{2} - 3 z + 1}$",
            "text/plain": [
              "(5*z**2/6 - 2*z + 1)/(2*z**2 - 3*z + 1)"
            ]
          },
          "metadata": {},
          "execution_count": 10
        }
      ]
    },
    {
      "cell_type": "code",
      "metadata": {
        "colab": {
          "base_uri": "https://localhost:8080/",
          "height": 55
        },
        "id": "lOjuwSpnZLiq",
        "outputId": "b6ef86d4-9f62-456c-b17a-4615d9d76366"
      },
      "source": [
        "r = R-exp(z).series()\n",
        "r"
      ],
      "execution_count": 11,
      "outputs": [
        {
          "output_type": "execute_result",
          "data": {
            "text/latex": "$\\displaystyle -1 + \\frac{0.833333333333333 z^{2} - 2.0 z + 1}{2 z^{2} - 3 z + 1} - z - \\frac{z^{2}}{2} - \\frac{z^{3}}{6} - \\frac{z^{4}}{24} - \\frac{z^{5}}{120} + O\\left(z^{6}\\right)$",
            "text/plain": [
              "-1 + (0.833333333333333*z**2 - 2.0*z + 1)/(2*z**2 - 3*z + 1) - z - z**2/2 - z**3/6 - z**4/24 - z**5/120 + O(z**6)"
            ]
          },
          "metadata": {},
          "execution_count": 11
        }
      ]
    },
    {
      "cell_type": "code",
      "metadata": {
        "colab": {
          "base_uri": "https://localhost:8080/",
          "height": 55
        },
        "id": "37YqrC7yiRTs",
        "outputId": "f2cadb7b-7633-4389-a377-1e4dfb31a73e"
      },
      "source": [
        "r + O(z**4)"
      ],
      "execution_count": 12,
      "outputs": [
        {
          "output_type": "execute_result",
          "data": {
            "text/latex": "$\\displaystyle -1 + \\frac{0.833333333333333 z^{2} - 2.0 z + 1}{2 z^{2} - 3 z + 1} - z - \\frac{z^{2}}{2} - \\frac{z^{3}}{6} + O\\left(z^{4}\\right)$",
            "text/plain": [
              "-1 + (0.833333333333333*z**2 - 2.0*z + 1)/(2*z**2 - 3*z + 1) - z - z**2/2 - z**3/6 + O(z**4)"
            ]
          },
          "metadata": {},
          "execution_count": 12
        }
      ]
    },
    {
      "cell_type": "markdown",
      "metadata": {
        "id": "dUjs7v84ZXKk"
      },
      "source": [
        "O(z**4) => p=3"
      ]
    },
    {
      "cell_type": "markdown",
      "metadata": {
        "id": "o5hB4UFsdCCi"
      },
      "source": [
        "### A-устойчивость"
      ]
    },
    {
      "cell_type": "code",
      "metadata": {
        "colab": {
          "base_uri": "https://localhost:8080/",
          "height": 38
        },
        "id": "7i3-Ctm2Z1jK",
        "outputId": "d9c417d9-8b78-4fa7-b13f-cd08aa5ecace"
      },
      "source": [
        "solve(abs(R.subs(z, I*z))<=1)"
      ],
      "execution_count": 13,
      "outputs": [
        {
          "output_type": "execute_result",
          "data": {
            "text/latex": "$\\displaystyle -\\infty < z \\wedge z < \\infty$",
            "text/plain": [
              "(-oo < z) & (z < oo)"
            ]
          },
          "metadata": {},
          "execution_count": 13
        }
      ]
    },
    {
      "cell_type": "markdown",
      "metadata": {
        "id": "NSXnuWKdbNt_"
      },
      "source": [
        "является A-уст"
      ]
    },
    {
      "cell_type": "markdown",
      "metadata": {
        "id": "O2pkHKVkdFof"
      },
      "source": [
        "### L-устойчивость"
      ]
    },
    {
      "cell_type": "code",
      "metadata": {
        "colab": {
          "base_uri": "https://localhost:8080/"
        },
        "id": "G1A41i63bQcd",
        "outputId": "eb84a03c-8cba-448a-841d-7d2f3de455ee"
      },
      "source": [
        "(limit(R, z, -oo), limit(R, z, -oo)==0)"
      ],
      "execution_count": 14,
      "outputs": [
        {
          "output_type": "execute_result",
          "data": {
            "text/plain": [
              "(0.416666666666667, False)"
            ]
          },
          "metadata": {},
          "execution_count": 14
        }
      ]
    },
    {
      "cell_type": "markdown",
      "metadata": {
        "id": "BjcipiqibaLm"
      },
      "source": [
        "не является L-уст"
      ]
    },
    {
      "cell_type": "markdown",
      "metadata": {
        "id": "PNriVnDmeZBy"
      },
      "source": [
        "## Расчетные формулы"
      ]
    },
    {
      "cell_type": "code",
      "metadata": {
        "id": "yns-4ewIedEt"
      },
      "source": [
        "u, u1, t, tau = symbols('u_n u_{n+1} t_n tau')\n",
        "f = Function('f')(t, u)"
      ],
      "execution_count": 15,
      "outputs": []
    },
    {
      "cell_type": "code",
      "metadata": {
        "id": "LfdQkubvfEQF"
      },
      "source": [
        "k1, k2, k3 = symbols('k1 k2 k3')\n",
        "ksym = [k1, k2, k3]\n",
        "kk = []\n",
        "for i in range(len(c)):\n",
        "    uu = 0\n",
        "    for j in range(len(b)):\n",
        "        uu += A[i, j] * ksym[j]\n",
        "    uu *= tau\n",
        "    k = f.subs(t, t+c[i]*tau).subs(u, u + uu)\n",
        "    kk.append(nsimplify(k))"
      ],
      "execution_count": 16,
      "outputs": []
    },
    {
      "cell_type": "code",
      "metadata": {
        "colab": {
          "base_uri": "https://localhost:8080/",
          "height": 38
        },
        "id": "3mHEpgyLg2ok",
        "outputId": "29aabea8-f402-44b4-a113-5c6aec373e87"
      },
      "source": [
        "Eq(k1, kk[0])"
      ],
      "execution_count": 17,
      "outputs": [
        {
          "output_type": "execute_result",
          "data": {
            "text/latex": "$\\displaystyle k_{1} = f{\\left(t_{n} + \\tau,k_{1} \\tau + u_{n} \\right)}$",
            "text/plain": [
              "Eq(k1, f(t_n + tau, k1*tau + u_n))"
            ]
          },
          "metadata": {},
          "execution_count": 17
        }
      ]
    },
    {
      "cell_type": "code",
      "metadata": {
        "colab": {
          "base_uri": "https://localhost:8080/",
          "height": 58
        },
        "id": "fEDFXaOVhCDV",
        "outputId": "1ec5eb60-4314-4b64-81f5-2c76a799e00e"
      },
      "source": [
        "Eq(k2, kk[1])"
      ],
      "execution_count": 18,
      "outputs": [
        {
          "output_type": "execute_result",
          "data": {
            "text/latex": "$\\displaystyle k_{2} = f{\\left(t_{n} + \\frac{\\tau}{2},\\tau \\left(\\frac{3 k_{1}}{2} + 2 k_{2}\\right) + u_{n} \\right)}$",
            "text/plain": [
              "Eq(k2, f(t_n + tau/2, tau*(3*k1/2 + 2*k2) + u_n))"
            ]
          },
          "metadata": {},
          "execution_count": 18
        }
      ]
    },
    {
      "cell_type": "code",
      "metadata": {
        "id": "Rn20SpHnga99"
      },
      "source": [
        "ksum = 0\n",
        "for i in range(len(b)):\n",
        "    ksum += b[i] * ksym[i]\n",
        "\n",
        "ksum *= tau"
      ],
      "execution_count": 19,
      "outputs": []
    },
    {
      "cell_type": "code",
      "metadata": {
        "colab": {
          "base_uri": "https://localhost:8080/",
          "height": 58
        },
        "id": "gi-uDDYjheYF",
        "outputId": "80613296-b5b1-4e59-9841-ce27c67af0f9"
      },
      "source": [
        "Eq(u1, u + nsimplify(ksum))"
      ],
      "execution_count": 20,
      "outputs": [
        {
          "output_type": "execute_result",
          "data": {
            "text/latex": "$\\displaystyle u_{n+1} = \\tau \\left(\\frac{2 k_{1}}{3} + \\frac{k_{2}}{3}\\right) + u_{n}$",
            "text/plain": [
              "Eq(u_{n+1}, tau*(2*k1/3 + k2/3) + u_n)"
            ]
          },
          "metadata": {},
          "execution_count": 20
        }
      ]
    }
  ]
}