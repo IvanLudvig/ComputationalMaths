{
  "nbformat": 4,
  "nbformat_minor": 0,
  "metadata": {
    "colab": {
      "name": "stability_function.ipynb",
      "provenance": [],
      "collapsed_sections": [],
      "include_colab_link": true
    },
    "kernelspec": {
      "name": "python3",
      "display_name": "Python 3"
    },
    "language_info": {
      "name": "python"
    }
  },
  "cells": [
    {
      "cell_type": "markdown",
      "metadata": {
        "id": "view-in-github",
        "colab_type": "text"
      },
      "source": [
        "<a href=\"https://colab.research.google.com/github/IvanLudvig/ComputationalMaths/blob/master/utils/stability_function.ipynb\" target=\"_parent\"><img src=\"https://colab.research.google.com/assets/colab-badge.svg\" alt=\"Open In Colab\"/></a>"
      ]
    },
    {
      "cell_type": "code",
      "metadata": {
        "id": "UBCxRlmoWpOl"
      },
      "source": [
        "from sympy import *"
      ],
      "execution_count": 1,
      "outputs": []
    },
    {
      "cell_type": "code",
      "metadata": {
        "id": "CPZflNSRWtHC"
      },
      "source": [
        "z = symbols('z')"
      ],
      "execution_count": 2,
      "outputs": []
    },
    {
      "cell_type": "markdown",
      "metadata": {
        "id": "MbNVTXURFJCh"
      },
      "source": [
        "### Порядок аппроксимации"
      ]
    },
    {
      "cell_type": "code",
      "metadata": {
        "id": "T-dqjGrUEouC"
      },
      "source": [
        "R = Function('R')(z)"
      ],
      "execution_count": 3,
      "outputs": []
    },
    {
      "cell_type": "code",
      "metadata": {
        "colab": {
          "base_uri": "https://localhost:8080/",
          "height": 59
        },
        "id": "n7IF9PUZEpXt",
        "outputId": "c2c7fc60-f701-4542-e613-9e42d09c233b"
      },
      "source": [
        "R = 1/(1-z+z**2/2-z**3/6)\n",
        "R"
      ],
      "execution_count": 4,
      "outputs": [
        {
          "output_type": "execute_result",
          "data": {
            "text/latex": "$\\displaystyle \\frac{1}{- \\frac{z^{3}}{6} + \\frac{z^{2}}{2} - z + 1}$",
            "text/plain": [
              "1/(-z**3/6 + z**2/2 - z + 1)"
            ]
          },
          "metadata": {},
          "execution_count": 4
        }
      ]
    },
    {
      "cell_type": "code",
      "metadata": {
        "colab": {
          "base_uri": "https://localhost:8080/",
          "height": 60
        },
        "id": "3bU5KhzEEyHP",
        "outputId": "4b22d1a2-c5a9-4f0b-a77e-b31ebdcc0c7e"
      },
      "source": [
        "r = R-exp(z).series()\n",
        "r.simplify()"
      ],
      "execution_count": 5,
      "outputs": [
        {
          "output_type": "execute_result",
          "data": {
            "text/latex": "$\\displaystyle \\frac{- \\frac{z^{4}}{4} - \\frac{z^{5}}{5} + O\\left(z^{6}\\right)}{z^{3} - 3 z^{2} + 6 z - 6}$",
            "text/plain": [
              "(-z**4/4 - z**5/5 + O(z**6))/(z**3 - 3*z**2 + 6*z - 6)"
            ]
          },
          "metadata": {},
          "execution_count": 5
        }
      ]
    },
    {
      "cell_type": "code",
      "metadata": {
        "colab": {
          "base_uri": "https://localhost:8080/",
          "height": 39
        },
        "id": "cTNGCHhtEzA1",
        "outputId": "5f125627-97dd-49a6-ab04-2463a7319d11"
      },
      "source": [
        "Order(r)"
      ],
      "execution_count": 6,
      "outputs": [
        {
          "output_type": "execute_result",
          "data": {
            "text/latex": "$\\displaystyle O\\left(z^{4}\\right)$",
            "text/plain": [
              "O(z**4)"
            ]
          },
          "metadata": {},
          "execution_count": 6
        }
      ]
    },
    {
      "cell_type": "markdown",
      "metadata": {
        "id": "dUjs7v84ZXKk"
      },
      "source": [
        "$$O(z^n) \\Rightarrow p=n-1$$"
      ]
    },
    {
      "cell_type": "markdown",
      "metadata": {
        "id": "o5hB4UFsdCCi"
      },
      "source": [
        "### A-устойчивость"
      ]
    },
    {
      "cell_type": "code",
      "metadata": {
        "id": "7i3-Ctm2Z1jK"
      },
      "source": [
        "# solve(abs(R.subs(z, I*z))<=1)"
      ],
      "execution_count": null,
      "outputs": []
    },
    {
      "cell_type": "markdown",
      "metadata": {
        "id": "NSXnuWKdbNt_"
      },
      "source": [
        ""
      ]
    },
    {
      "cell_type": "markdown",
      "metadata": {
        "id": "O2pkHKVkdFof"
      },
      "source": [
        "### L-устойчивость"
      ]
    },
    {
      "cell_type": "code",
      "metadata": {
        "colab": {
          "base_uri": "https://localhost:8080/"
        },
        "id": "G1A41i63bQcd",
        "outputId": "9a291468-c906-45ec-f3a0-658d1f3d8533"
      },
      "source": [
        "(limit(R, z, -oo), limit(R, z, -oo)==0)"
      ],
      "execution_count": 9,
      "outputs": [
        {
          "output_type": "execute_result",
          "data": {
            "text/plain": [
              "(0, True)"
            ]
          },
          "metadata": {},
          "execution_count": 9
        }
      ]
    },
    {
      "cell_type": "markdown",
      "metadata": {
        "id": "BjcipiqibaLm"
      },
      "source": [
        "является L-уст"
      ]
    }
  ]
}