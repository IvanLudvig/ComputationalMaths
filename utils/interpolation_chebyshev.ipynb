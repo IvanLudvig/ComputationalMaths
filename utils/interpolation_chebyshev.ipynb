{
  "nbformat": 4,
  "nbformat_minor": 0,
  "metadata": {
    "colab": {
      "name": "interpolation-chebyshev.ipynb",
      "provenance": [],
      "authorship_tag": "ABX9TyP31Hiw206AwxKrY3hgBqht",
      "include_colab_link": true
    },
    "kernelspec": {
      "name": "python3",
      "display_name": "Python 3"
    },
    "language_info": {
      "name": "python"
    }
  },
  "cells": [
    {
      "cell_type": "markdown",
      "metadata": {
        "id": "view-in-github",
        "colab_type": "text"
      },
      "source": [
        "<a href=\"https://colab.research.google.com/github/IvanLudvig/ComputationalMaths/blob/master/utils/interpolation_chebyshev.ipynb\" target=\"_parent\"><img src=\"https://colab.research.google.com/assets/colab-badge.svg\" alt=\"Open In Colab\"/></a>"
      ]
    },
    {
      "cell_type": "code",
      "metadata": {
        "id": "8vXKbw8wR3lX"
      },
      "source": [
        "import math\n",
        "import numpy as np\n",
        "import matplotlib.pyplot as plt"
      ],
      "execution_count": 1,
      "outputs": []
    },
    {
      "cell_type": "code",
      "metadata": {
        "id": "2ByPrzlIR_cM"
      },
      "source": [
        "def getUniformCheb(m, N):\n",
        "    return math.cos((2*m + 1)*math.pi/(2*N))\n",
        "\n",
        "def getCheb(m, N, a=-1, b=1):\n",
        "    return ((a+b)/2) + ((b-a)/2)*getUniformCheb(m, N)"
      ],
      "execution_count": 2,
      "outputs": []
    },
    {
      "cell_type": "code",
      "metadata": {
        "id": "Nm5W0__DR7pM"
      },
      "source": [
        "N = 3\n",
        "x = [getUniformCheb(m, N) for m in range(N)]\n",
        "y = [1, 2.1697, 0.4609]"
      ],
      "execution_count": 3,
      "outputs": []
    },
    {
      "cell_type": "code",
      "metadata": {
        "colab": {
          "base_uri": "https://localhost:8080/"
        },
        "id": "jKKurodWSfDa",
        "outputId": "2f5fa2cc-3e51-49fe-9bf0-5b07480d2eef"
      },
      "source": [
        "x"
      ],
      "execution_count": 4,
      "outputs": [
        {
          "output_type": "execute_result",
          "data": {
            "text/plain": [
              "[0.8660254037844387, 6.123233995736766e-17, -0.8660254037844387]"
            ]
          },
          "metadata": {},
          "execution_count": 4
        }
      ]
    },
    {
      "cell_type": "code",
      "metadata": {
        "id": "Lvw7y_3CSxco"
      },
      "source": [
        "def newton_coef(x, y):\n",
        "    n = len(x)\n",
        "    coef = np.zeros([n, n])\n",
        "    coef[:, 0] = y\n",
        "    \n",
        "    for j in range(1, n):\n",
        "        for i in range(n - j):\n",
        "            coef[i][j] = (coef[i + 1][j-1] - coef[i][j - 1]) / (x[i + j] - x[i])\n",
        "\n",
        "    return coef[0, :]\n",
        "\n",
        "def polyValue(coef, x, x0):\n",
        "    n = len(x) - 1\n",
        "    p = coef[n]\n",
        "    for k in range(1, n + 1):\n",
        "        p = coef[n - k] + (x0 - x[n - k]) * p\n",
        "    return p"
      ],
      "execution_count": 5,
      "outputs": []
    },
    {
      "cell_type": "code",
      "metadata": {
        "colab": {
          "base_uri": "https://localhost:8080/"
        },
        "id": "-uEAMkm9VkGZ",
        "outputId": "afd9ae9b-1fe4-4167-bb7e-64476cab4dda"
      },
      "source": [
        "newton_coef(x, y)"
      ],
      "execution_count": 6,
      "outputs": [
        {
          "output_type": "execute_result",
          "data": {
            "text/plain": [
              "array([ 1.        , -1.35065322, -1.919     ])"
            ]
          },
          "metadata": {},
          "execution_count": 6
        }
      ]
    },
    {
      "cell_type": "code",
      "metadata": {
        "id": "EwpxkaMSTSK0"
      },
      "source": [
        "def interpolate(x, y, points):\n",
        "    a = newton_coef(x, y)\n",
        "    n = len(x) - 1\n",
        "\n",
        "    values = []\n",
        "    for x0 in points:\n",
        "        p = a[n]\n",
        "        values.append(polyValue(a, x, x0))\n",
        "\n",
        "    return values"
      ],
      "execution_count": 7,
      "outputs": []
    },
    {
      "cell_type": "code",
      "metadata": {
        "colab": {
          "base_uri": "https://localhost:8080/"
        },
        "id": "oRtRGZ5ZTWf0",
        "outputId": "c9ed8709-10f1-49dd-e7d6-54b1bb393673"
      },
      "source": [
        "interpolate(x, y, [0.4])"
      ],
      "execution_count": 8,
      "outputs": [
        {
          "output_type": "execute_result",
          "data": {
            "text/plain": [
              "[1.987159812048051]"
            ]
          },
          "metadata": {},
          "execution_count": 8
        }
      ]
    }
  ]
}