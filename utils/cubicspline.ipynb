{
  "nbformat": 4,
  "nbformat_minor": 0,
  "metadata": {
    "colab": {
      "name": "cubicspline.ipynb",
      "provenance": [],
      "authorship_tag": "ABX9TyNq8vkKtZEQrJrDGTavCyy4",
      "include_colab_link": true
    },
    "kernelspec": {
      "name": "python3",
      "display_name": "Python 3"
    },
    "language_info": {
      "name": "python"
    }
  },
  "cells": [
    {
      "cell_type": "markdown",
      "metadata": {
        "id": "view-in-github",
        "colab_type": "text"
      },
      "source": [
        "<a href=\"https://colab.research.google.com/github/IvanLudvig/ComputationalMaths/blob/master/utils/cubicspline.ipynb\" target=\"_parent\"><img src=\"https://colab.research.google.com/assets/colab-badge.svg\" alt=\"Open In Colab\"/></a>"
      ]
    },
    {
      "cell_type": "code",
      "metadata": {
        "id": "W-Ywm_eGZOYX"
      },
      "source": [
        "import math\n",
        "import numpy as np\n",
        "import matplotlib.pyplot as plt"
      ],
      "execution_count": 1,
      "outputs": []
    },
    {
      "cell_type": "code",
      "metadata": {
        "id": "bMgwpLSNZR4O"
      },
      "source": [
        "def solveTriangleSlae(a, b, c, d):\n",
        "    n = len(b)\n",
        "    p, q = np.zeros(n), np.zeros(n)\n",
        "    c = c + [0]\n",
        "    p[0] = c[0] / b[0]\n",
        "    q[0] = d[0] / b[0]\n",
        "    for i in range(1, n):\n",
        "        j = i - 1\n",
        "        p[i] = - c[j] / (b[j] + (a[j] * p[j]))\n",
        "        q[i] = (d[j] - (a[j] * q[j])) / (b[j] + (a[j] * p[j]))\n",
        "\n",
        "    x = np.zeros(n + 1)\n",
        "\n",
        "    x[n] = q[-1]\n",
        "    for i in range(n - 1, 0, -1):\n",
        "        x[i] = q[i] + (x[i + 1] * p[i])\n",
        "    return x"
      ],
      "execution_count": 2,
      "outputs": []
    },
    {
      "cell_type": "code",
      "metadata": {
        "id": "ayVqZxxXZU49"
      },
      "source": [
        "class CubicSpline:\n",
        "\n",
        "    def __init__(self, x, y):\n",
        "        self.x = np.array(x)\n",
        "        self.y = np.array(y)\n",
        "        self.n = len(x)\n",
        "        self.h = np.diff(x)\n",
        "        self.h = np.append(self.h, self.h[-1])\n",
        "        p = self.x.argsort()\n",
        "        self.x = self.x[p]\n",
        "        self.y = self.y[p]\n",
        "        self.a, self.b, self.c, self.d = self.fit()\n",
        "\n",
        "    def newtonDiff(self, i):\n",
        "        return (self.y[i] - self.y[i - 1]) / self.h[i]\n",
        "\n",
        "    def newtonDiff2(self, i):\n",
        "        return (self.newtonDiff(i) - self.newtonDiff(i - 1)) / (self.h[i] + self.h[i - 1])\n",
        "\n",
        "    def get_matrix(self):\n",
        "        a = np.zeros(self.n - 1)\n",
        "        b = np.zeros(self.n - 1)\n",
        "        c = np.zeros(self.n - 1)\n",
        "        d = np.zeros(self.n - 1)\n",
        "        for i in range(1, self.n - 1):\n",
        "            j = i - 1\n",
        "            b[j] = 2\n",
        "            a[j] = self.h[i] / (self.h[i] + self.h[i + 1])\n",
        "            c[j] = self.h[i + 1] / (self.h[i + 1] + self.h[i])\n",
        "            d[j] = 6 * self.newtonDiff2(i + 1)\n",
        "\n",
        "        return a, b, c, d\n",
        "\n",
        "    def fit(self):\n",
        "        am, bm, cm, dm = self.get_matrix()\n",
        "        N = len(self.x)\n",
        "        c = solveTriangleSlae(am, bm, cm, dm)\n",
        "        c = c[:-1]\n",
        "        a = self.y\n",
        "        d = np.zeros(N)\n",
        "        b = np.zeros(N)\n",
        "        c = np.append(c, 0)\n",
        "        c = np.append(c, 0)\n",
        "\n",
        "        for i in range(N - 1, 0, -1):\n",
        "            d[i] = (c[i] - c[i-1]) / self.h[i]\n",
        "            b[i] = self.h[i] * (2.0 * c[i] + c[i-1]) / 6.0 + (self.y[i] - self.y[i - 1]) / self.h[i]\n",
        "\n",
        "        d[0] = c[0] / self.h[0]\n",
        "        b[0] = self.newtonDiff(1) + (self.h[1] * c[0] / 3)\n",
        "        return a, b, c, d\n",
        "\n",
        "    def calculate(self, j, dx):\n",
        "        return self.a[j] + (self.b[j] * dx) + (self.c[j] * (dx**2) / 2) + (self.d[j] * (dx**3) / 6)\n",
        "\n",
        "    def interpolate(self, x):\n",
        "        for i in range(self.n):\n",
        "            if x <= self.x[i]:\n",
        "                j = i\n",
        "                dx = x - self.x[i]\n",
        "                return self.calculate(j, dx)\n",
        "        return self.calculate(self.n - 1, x - self.x[self.n - 1])"
      ],
      "execution_count": 3,
      "outputs": []
    },
    {
      "cell_type": "code",
      "metadata": {
        "id": "Qfq9HoBKZX6M"
      },
      "source": [
        "x = list(range(6, 12+1))\n",
        "y = [0.00792334, 0.00479672, 0.00172201, -0.0010017, -0.0032621, -0.005055, -0.0064306]"
      ],
      "execution_count": 4,
      "outputs": []
    },
    {
      "cell_type": "code",
      "metadata": {
        "colab": {
          "base_uri": "https://localhost:8080/",
          "height": 282
        },
        "id": "8ROmwrmlZXp-",
        "outputId": "fbe9a7da-e951-4506-8c2b-c806399aefad"
      },
      "source": [
        "spline = CubicSpline(x, y)\n",
        "\n",
        "xx = np.linspace(x[0] - 1, x[-1] + 1, 1000)\n",
        "plt.plot(xx, [spline.interpolate(x) for x in xx])\n",
        "plt.scatter(x, y)"
      ],
      "execution_count": 5,
      "outputs": [
        {
          "output_type": "execute_result",
          "data": {
            "text/plain": [
              "<matplotlib.collections.PathCollection at 0x7f7df315f090>"
            ]
          },
          "metadata": {},
          "execution_count": 5
        },
        {
          "output_type": "display_data",
          "data": {
            "image/png": "[encoded data removed]",
            "text/plain": [
              "<Figure size 432x288 with 1 Axes>"
            ]
          },
          "metadata": {
            "needs_background": "light"
          }
        }
      ]
    },
    {
      "cell_type": "code",
      "metadata": {
        "colab": {
          "base_uri": "https://localhost:8080/"
        },
        "id": "FtK-iSUjay6w",
        "outputId": "a8721958-ac7a-41ec-b9ce-6467e2120b54"
      },
      "source": [
        "for u in np.linspace(x[0], x[-1], 1000000):\n",
        "    if abs(spline.interpolate(u)) < 1e-8:\n",
        "        print(u)\n",
        "        break"
      ],
      "execution_count": 6,
      "outputs": [
        {
          "output_type": "stream",
          "name": "stdout",
          "text": [
            "8.612816612816612\n"
          ]
        }
      ]
    }
  ]
}