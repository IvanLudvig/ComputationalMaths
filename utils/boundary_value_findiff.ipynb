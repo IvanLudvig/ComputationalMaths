{
  "nbformat": 4,
  "nbformat_minor": 0,
  "metadata": {
    "colab": {
      "name": "boundary_value_findiff.ipynb",
      "provenance": [],
      "collapsed_sections": [],
      "authorship_tag": "ABX9TyNWJZCNp9lDvet0VdXt3BMq",
      "include_colab_link": true
    },
    "kernelspec": {
      "name": "python3",
      "display_name": "Python 3"
    },
    "language_info": {
      "name": "python"
    }
  },
  "cells": [
    {
      "cell_type": "markdown",
      "metadata": {
        "id": "view-in-github",
        "colab_type": "text"
      },
      "source": [
        "<a href=\"https://colab.research.google.com/github/IvanLudvig/ComputationalMaths/blob/master/utils/boundary_value_findiff.ipynb\" target=\"_parent\"><img src=\"https://colab.research.google.com/assets/colab-badge.svg\" alt=\"Open In Colab\"/></a>"
      ]
    },
    {
      "cell_type": "code",
      "metadata": {
        "id": "UBCxRlmoWpOl"
      },
      "source": [
        "from sympy import *"
      ],
      "execution_count": 1,
      "outputs": []
    },
    {
      "cell_type": "code",
      "metadata": {
        "id": "2jOc7lPOrVjX"
      },
      "source": [
        "ddy, dy, y, x = symbols('y\\'\\' y\\' y x')\n",
        "y_n, y_nprev, y_nnext, h = symbols('y_n y_{n+1} y_{n-1} h')"
      ],
      "execution_count": 2,
      "outputs": []
    },
    {
      "cell_type": "code",
      "metadata": {
        "id": "5kTAzeF-Blqb"
      },
      "source": [
        "fd = (y_nnext-y_nprev)/(2*h)\n",
        "fdd = (y_nnext-2*y_n + y_nprev)/h**2\n",
        "\n",
        "fd1 = (y_nnext-y_n)/(h)\n",
        "dy0 = 0"
      ],
      "execution_count": 3,
      "outputs": []
    },
    {
      "cell_type": "code",
      "metadata": {
        "colab": {
          "base_uri": "https://localhost:8080/",
          "height": 39
        },
        "id": "QykyonVjBn1U",
        "outputId": "a9f00150-00e9-4073-808b-da04017c9b83"
      },
      "source": [
        "expr = ddy + 2*dy + (1+x**2)*y-2*(1-3*x**2)\n",
        "Eq(expr, 0)"
      ],
      "execution_count": 4,
      "outputs": [
        {
          "output_type": "execute_result",
          "data": {
            "text/latex": "$\\displaystyle 6 x^{2} + y \\left(x^{2} + 1\\right) + 2 y' + y'' - 2 = 0$",
            "text/plain": [
              "Eq(6*x**2 + y*(x**2 + 1) + 2*y' + y'' - 2, 0)"
            ]
          },
          "metadata": {},
          "execution_count": 4
        }
      ]
    },
    {
      "cell_type": "markdown",
      "metadata": {
        "id": "8-IO9XExEPIo"
      },
      "source": [
        "Аппроксимация граничного условия"
      ]
    },
    {
      "cell_type": "code",
      "metadata": {
        "colab": {
          "base_uri": "https://localhost:8080/",
          "height": 53
        },
        "id": "5IAq3mBlBMym",
        "outputId": "51b3d99e-7e41-4da1-f1c9-f8637c9f00a2"
      },
      "source": [
        "expansion = y + h*dy + (h**2/2)*ddy\n",
        "r = simplify(fd1.subs(y_nnext, expansion).subs(y, y_n))\n",
        "r"
      ],
      "execution_count": 5,
      "outputs": [
        {
          "output_type": "execute_result",
          "data": {
            "text/latex": "$\\displaystyle \\frac{h y''}{2} + y'$",
            "text/plain": [
              "h*y''/2 + y'"
            ]
          },
          "metadata": {},
          "execution_count": 5
        }
      ]
    },
    {
      "cell_type": "code",
      "metadata": {
        "colab": {
          "base_uri": "https://localhost:8080/",
          "height": 38
        },
        "id": "z7HEFsD2CZuk",
        "outputId": "30980cae-23ef-41cd-dbd3-2612a59a7127"
      },
      "source": [
        "expr0 = expr.subs(dy, dy0).subs(x, 0)\n",
        "expr0"
      ],
      "execution_count": 6,
      "outputs": [
        {
          "output_type": "execute_result",
          "data": {
            "text/latex": "$\\displaystyle y + y'' - 2$",
            "text/plain": [
              "y + y'' - 2"
            ]
          },
          "metadata": {},
          "execution_count": 6
        }
      ]
    },
    {
      "cell_type": "code",
      "metadata": {
        "colab": {
          "base_uri": "https://localhost:8080/",
          "height": 58
        },
        "id": "DK1o9XU2BjCR",
        "outputId": "0543b34a-1d28-4da7-e4e3-5609aafbfc17"
      },
      "source": [
        "collected_expr0 = collect((fd1 - r).subs(dy, dy0).subs(ddy, solve(expr0, ddy)[0].subs(y, y_n)).expand(), [y_n, y_nnext])\n",
        "collected_expr0"
      ],
      "execution_count": 7,
      "outputs": [
        {
          "output_type": "execute_result",
          "data": {
            "text/latex": "$\\displaystyle - h + y_{n} \\left(\\frac{h}{2} - \\frac{1}{h}\\right) + \\frac{y_{n-1}}{h}$",
            "text/plain": [
              "-h + y_n*(h/2 - 1/h) + y_{n-1}/h"
            ]
          },
          "metadata": {},
          "execution_count": 7
        }
      ]
    },
    {
      "cell_type": "code",
      "metadata": {
        "colab": {
          "base_uri": "https://localhost:8080/",
          "height": 52
        },
        "id": "7qOh7UXWDpO8",
        "outputId": "311f75cf-1d63-4ce5-ba8c-d08b39dfc55d"
      },
      "source": [
        "b_0, c_0, d_0 = symbols('b_0 c_0 d_0')\n",
        "Eq(b_0, collected_expr0.coeff(y_n))"
      ],
      "execution_count": 8,
      "outputs": [
        {
          "output_type": "execute_result",
          "data": {
            "text/latex": "$\\displaystyle b_{0} = \\frac{h}{2} - \\frac{1}{h}$",
            "text/plain": [
              "Eq(b_0, h/2 - 1/h)"
            ]
          },
          "metadata": {},
          "execution_count": 8
        }
      ]
    },
    {
      "cell_type": "code",
      "metadata": {
        "colab": {
          "base_uri": "https://localhost:8080/",
          "height": 51
        },
        "id": "3KtA7jDvEArD",
        "outputId": "d3384e83-fccb-4849-da92-c382786dad6f"
      },
      "source": [
        "Eq(c_0, collected_expr0.coeff(y_nnext))"
      ],
      "execution_count": 9,
      "outputs": [
        {
          "output_type": "execute_result",
          "data": {
            "text/latex": "$\\displaystyle c_{0} = \\frac{1}{h}$",
            "text/plain": [
              "Eq(c_0, 1/h)"
            ]
          },
          "metadata": {},
          "execution_count": 9
        }
      ]
    },
    {
      "cell_type": "code",
      "metadata": {
        "colab": {
          "base_uri": "https://localhost:8080/",
          "height": 38
        },
        "id": "iVyHp0TfED37",
        "outputId": "dca4461c-9df2-4969-a697-8495b0a8771b"
      },
      "source": [
        "Eq(d_0, -collected_expr0.subs(y_n, 0).subs(y_nnext, 0))"
      ],
      "execution_count": 10,
      "outputs": [
        {
          "output_type": "execute_result",
          "data": {
            "text/latex": "$\\displaystyle d_{0} = h$",
            "text/plain": [
              "Eq(d_0, h)"
            ]
          },
          "metadata": {},
          "execution_count": 10
        }
      ]
    },
    {
      "cell_type": "markdown",
      "metadata": {
        "id": "ZB-K0qZwEVP4"
      },
      "source": [
        "Аппроксимация с точностью O(h^2)"
      ]
    },
    {
      "cell_type": "code",
      "metadata": {
        "colab": {
          "base_uri": "https://localhost:8080/",
          "height": 51
        },
        "id": "5flnk3d_8cIs",
        "outputId": "783f54c4-e776-4881-b74e-04792a0e51fb"
      },
      "source": [
        "expr_diff = expr.subs(ddy, fdd).subs(dy, fd).subs(y, y_n)\n",
        "Eq(expr_diff, 0)"
      ],
      "execution_count": 11,
      "outputs": [
        {
          "output_type": "execute_result",
          "data": {
            "text/latex": "$\\displaystyle 6 x^{2} + y_{n} \\left(x^{2} + 1\\right) - 2 + \\frac{- y_{n+1} + y_{n-1}}{h} + \\frac{- 2 y_{n} + y_{n+1} + y_{n-1}}{h^{2}} = 0$",
            "text/plain": [
              "Eq(6*x**2 + y_n*(x**2 + 1) - 2 + (-y_{n+1} + y_{n-1})/h + (-2*y_n + y_{n+1} + y_{n-1})/h**2, 0)"
            ]
          },
          "metadata": {},
          "execution_count": 11
        }
      ]
    },
    {
      "cell_type": "code",
      "metadata": {
        "id": "f0GrAvO085uG"
      },
      "source": [
        "collected = collect(expr_diff.expand(), [y_n, y_nprev, y_nnext])"
      ],
      "execution_count": 12,
      "outputs": []
    },
    {
      "cell_type": "code",
      "metadata": {
        "id": "LI2ItriF-lUO"
      },
      "source": [
        "a_n, b_n, c_n, d_n = symbols('a_n b_n c_n d_n')"
      ],
      "execution_count": 13,
      "outputs": []
    },
    {
      "cell_type": "markdown",
      "metadata": {
        "id": "Nh1NGiuxEdpI"
      },
      "source": [
        "Коэффициенты матрицы"
      ]
    },
    {
      "cell_type": "code",
      "metadata": {
        "colab": {
          "base_uri": "https://localhost:8080/",
          "height": 51
        },
        "id": "AIDg1vgh-svh",
        "outputId": "feb3b8f0-5c78-42e7-a7d0-303ac500501a"
      },
      "source": [
        "Eq(a_n, collected.coeff(y_nprev))"
      ],
      "execution_count": 14,
      "outputs": [
        {
          "output_type": "execute_result",
          "data": {
            "text/latex": "$\\displaystyle a_{n} = - \\frac{1}{h} + \\frac{1}{h^{2}}$",
            "text/plain": [
              "Eq(a_n, -1/h + h**(-2))"
            ]
          },
          "metadata": {},
          "execution_count": 14
        }
      ]
    },
    {
      "cell_type": "code",
      "metadata": {
        "colab": {
          "base_uri": "https://localhost:8080/",
          "height": 51
        },
        "id": "VkpI3_kt-_Ik",
        "outputId": "d7d98739-5099-4f43-9e6e-6a8cf03d7124"
      },
      "source": [
        "Eq(b_n, collected.coeff(y_n))"
      ],
      "execution_count": 15,
      "outputs": [
        {
          "output_type": "execute_result",
          "data": {
            "text/latex": "$\\displaystyle b_{n} = x^{2} + 1 - \\frac{2}{h^{2}}$",
            "text/plain": [
              "Eq(b_n, x**2 + 1 - 2/h**2)"
            ]
          },
          "metadata": {},
          "execution_count": 15
        }
      ]
    },
    {
      "cell_type": "code",
      "metadata": {
        "colab": {
          "base_uri": "https://localhost:8080/",
          "height": 51
        },
        "id": "S8T3a0nu_CTj",
        "outputId": "95e35e45-176c-40f1-d042-9a1dc4c71b2f"
      },
      "source": [
        "Eq(c_n, collected.coeff(y_nnext))"
      ],
      "execution_count": 16,
      "outputs": [
        {
          "output_type": "execute_result",
          "data": {
            "text/latex": "$\\displaystyle c_{n} = \\frac{1}{h} + \\frac{1}{h^{2}}$",
            "text/plain": [
              "Eq(c_n, 1/h + h**(-2))"
            ]
          },
          "metadata": {},
          "execution_count": 16
        }
      ]
    },
    {
      "cell_type": "code",
      "metadata": {
        "colab": {
          "base_uri": "https://localhost:8080/",
          "height": 38
        },
        "id": "vVgTWrDG_Jts",
        "outputId": "e7cef096-6939-4c60-8593-4c10de75242f"
      },
      "source": [
        "Eq(d_n, -collected.subs(y_n, 0).subs(y_nprev, 0).subs(y_nnext, 0))"
      ],
      "execution_count": 17,
      "outputs": [
        {
          "output_type": "execute_result",
          "data": {
            "text/latex": "$\\displaystyle d_{n} = 2 - 6 x^{2}$",
            "text/plain": [
              "Eq(d_n, 2 - 6*x**2)"
            ]
          },
          "metadata": {},
          "execution_count": 17
        }
      ]
    },
    {
      "cell_type": "markdown",
      "metadata": {
        "id": "5Tjt_DNpEjiz"
      },
      "source": [
        "![image.png](data:image/png;base64,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)"
      ]
    }
  ]
}