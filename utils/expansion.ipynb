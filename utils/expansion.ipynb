{
  "nbformat": 4,
  "nbformat_minor": 0,
  "metadata": {
    "colab": {
      "name": "expansion.ipynb",
      "provenance": [],
      "collapsed_sections": [],
      "authorship_tag": "ABX9TyNThw6hX3Dl4OQr4iwb5aoK",
      "include_colab_link": true
    },
    "kernelspec": {
      "name": "python3",
      "display_name": "Python 3"
    },
    "language_info": {
      "name": "python"
    }
  },
  "cells": [
    {
      "cell_type": "markdown",
      "metadata": {
        "id": "view-in-github",
        "colab_type": "text"
      },
      "source": [
        "<a href=\"https://colab.research.google.com/github/IvanLudvig/ComputationalMaths/blob/master/utils/expansion.ipynb\" target=\"_parent\"><img src=\"https://colab.research.google.com/assets/colab-badge.svg\" alt=\"Open In Colab\"/></a>"
      ]
    },
    {
      "cell_type": "code",
      "metadata": {
        "id": "UBCxRlmoWpOl"
      },
      "source": [
        "from sympy import *"
      ],
      "execution_count": 1,
      "outputs": []
    },
    {
      "cell_type": "code",
      "metadata": {
        "id": "2jOc7lPOrVjX"
      },
      "source": [
        "x, h = symbols('x h')\n",
        "y = Function('y')(x)\n",
        "\n",
        "def expand(delta, N=4):\n",
        "    return sum(delta**n/factorial(n) * y.diff(x, n) for n in range(N))"
      ],
      "execution_count": 2,
      "outputs": []
    },
    {
      "cell_type": "code",
      "metadata": {
        "colab": {
          "base_uri": "https://localhost:8080/",
          "height": 58
        },
        "id": "r6Who0fxr25u",
        "outputId": "ca6a16a4-08b3-4ca3-81c1-62504fd51cec"
      },
      "source": [
        "# y_next = y.series(x0=0, n=4).subs(x, h)\n",
        "y_next = expand(h)\n",
        "y_next"
      ],
      "execution_count": 3,
      "outputs": [
        {
          "output_type": "execute_result",
          "data": {
            "text/latex": "$\\displaystyle \\frac{h^{3} \\frac{d^{3}}{d x^{3}} y{\\left(x \\right)}}{6} + \\frac{h^{2} \\frac{d^{2}}{d x^{2}} y{\\left(x \\right)}}{2} + h \\frac{d}{d x} y{\\left(x \\right)} + y{\\left(x \\right)}$",
            "text/plain": [
              "h**3*Derivative(y(x), (x, 3))/6 + h**2*Derivative(y(x), (x, 2))/2 + h*Derivative(y(x), x) + y(x)"
            ]
          },
          "metadata": {},
          "execution_count": 3
        }
      ]
    },
    {
      "cell_type": "code",
      "metadata": {
        "colab": {
          "base_uri": "https://localhost:8080/",
          "height": 58
        },
        "id": "i_mN_9X1oGaT",
        "outputId": "5c7e98c2-f559-4182-989c-48dc3f1729bf"
      },
      "source": [
        "y_prev = expand(-h)\n",
        "y_prev"
      ],
      "execution_count": 4,
      "outputs": [
        {
          "output_type": "execute_result",
          "data": {
            "text/latex": "$\\displaystyle - \\frac{h^{3} \\frac{d^{3}}{d x^{3}} y{\\left(x \\right)}}{6} + \\frac{h^{2} \\frac{d^{2}}{d x^{2}} y{\\left(x \\right)}}{2} - h \\frac{d}{d x} y{\\left(x \\right)} + y{\\left(x \\right)}$",
            "text/plain": [
              "-h**3*Derivative(y(x), (x, 3))/6 + h**2*Derivative(y(x), (x, 2))/2 - h*Derivative(y(x), x) + y(x)"
            ]
          },
          "metadata": {},
          "execution_count": 4
        }
      ]
    },
    {
      "cell_type": "code",
      "metadata": {
        "colab": {
          "base_uri": "https://localhost:8080/",
          "height": 58
        },
        "id": "-mWh-0pVpg2A",
        "outputId": "b49a99a2-a1ea-4618-ab17-a98e98a285e0"
      },
      "source": [
        "left = simplify((4*y_next - 6*y + 2*y_prev)/h)\n",
        "left"
      ],
      "execution_count": 5,
      "outputs": [
        {
          "output_type": "execute_result",
          "data": {
            "text/latex": "$\\displaystyle \\frac{h^{2} \\frac{d^{3}}{d x^{3}} y{\\left(x \\right)}}{3} + 3 h \\frac{d^{2}}{d x^{2}} y{\\left(x \\right)} + 2 \\frac{d}{d x} y{\\left(x \\right)}$",
            "text/plain": [
              "h**2*Derivative(y(x), (x, 3))/3 + 3*h*Derivative(y(x), (x, 2)) + 2*Derivative(y(x), x)"
            ]
          },
          "metadata": {},
          "execution_count": 5
        }
      ]
    },
    {
      "cell_type": "code",
      "metadata": {
        "colab": {
          "base_uri": "https://localhost:8080/",
          "height": 58
        },
        "id": "XC-Ea_27pBmp",
        "outputId": "08dea828-fa2e-4924-cf33-005527b26f0b"
      },
      "source": [
        "right = simplify(1*y_next + 3*y - 2*y_prev).diff(x)\n",
        "right"
      ],
      "execution_count": 6,
      "outputs": [
        {
          "output_type": "execute_result",
          "data": {
            "text/latex": "$\\displaystyle \\frac{h^{3} \\frac{d^{4}}{d x^{4}} y{\\left(x \\right)}}{2} - \\frac{h^{2} \\frac{d^{3}}{d x^{3}} y{\\left(x \\right)}}{2} + 3 h \\frac{d^{2}}{d x^{2}} y{\\left(x \\right)} + 2 \\frac{d}{d x} y{\\left(x \\right)}$",
            "text/plain": [
              "h**3*Derivative(y(x), (x, 4))/2 - h**2*Derivative(y(x), (x, 3))/2 + 3*h*Derivative(y(x), (x, 2)) + 2*Derivative(y(x), x)"
            ]
          },
          "metadata": {},
          "execution_count": 6
        }
      ]
    },
    {
      "cell_type": "code",
      "metadata": {
        "colab": {
          "base_uri": "https://localhost:8080/",
          "height": 66
        },
        "id": "21rnPrnJsFvL",
        "outputId": "e4625ffb-3a5d-4702-fcc7-8134db1a2628"
      },
      "source": [
        "r = simplify(right-left)\n",
        "r"
      ],
      "execution_count": 7,
      "outputs": [
        {
          "output_type": "execute_result",
          "data": {
            "text/latex": "$\\displaystyle \\frac{h^{2} \\left(3 h \\frac{d^{4}}{d x^{4}} y{\\left(x \\right)} - 5 \\frac{d^{3}}{d x^{3}} y{\\left(x \\right)}\\right)}{6}$",
            "text/plain": [
              "h**2*(3*h*Derivative(y(x), (x, 4)) - 5*Derivative(y(x), (x, 3)))/6"
            ]
          },
          "metadata": {},
          "execution_count": 7
        }
      ]
    },
    {
      "cell_type": "code",
      "metadata": {
        "colab": {
          "base_uri": "https://localhost:8080/",
          "height": 39
        },
        "id": "6tU2z7hZsFo3",
        "outputId": "f716d44d-65be-4d20-aed7-9fe80e4a433d"
      },
      "source": [
        "Order(r, h)"
      ],
      "execution_count": 8,
      "outputs": [
        {
          "output_type": "execute_result",
          "data": {
            "text/latex": "$\\displaystyle O\\left(h^{2}\\right)$",
            "text/plain": [
              "O(h**2)"
            ]
          },
          "metadata": {},
          "execution_count": 8
        }
      ]
    },
    {
      "cell_type": "markdown",
      "metadata": {
        "id": "uZxGpQY5tuBX"
      },
      "source": [
        "$$r \\sim O(h^2) \\Rightarrow  p=2$$"
      ]
    }
  ]
}